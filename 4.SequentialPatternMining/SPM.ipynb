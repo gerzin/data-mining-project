{
 "cells": [
  {
   "cell_type": "markdown",
   "metadata": {},
   "source": [
    "# Sequential Pattern Mining"
   ]
  },
  {
   "cell_type": "markdown",
   "metadata": {},
   "source": [
    "In this notebook, we want to find statistically relevant patterns between data examples. We model the customer as a sequence of baskets."
   ]
  },
  {
   "cell_type": "code",
   "execution_count": 1,
   "metadata": {},
   "outputs": [],
   "source": [
    "#import the module in the parent folder\n",
    "import sys\n",
    "import os\n",
    "from pathlib import Path\n",
    "sys.path.append(str(Path.cwd().parent))\n",
    "import mylib\n",
    "from mylib.dataloading import *\n",
    "from mylib import utilities"
   ]
  },
  {
   "cell_type": "code",
   "execution_count": 2,
   "metadata": {},
   "outputs": [],
   "source": [
    "%matplotlib inline\n",
    "import pandas as pd\n",
    "import matplotlib.pyplot as plt\n",
    "import seaborn as sns; sns.set()\n",
    "import numpy as np"
   ]
  },
  {
   "cell_type": "code",
   "execution_count": 3,
   "metadata": {},
   "outputs": [],
   "source": [
    "import spmf"
   ]
  },
  {
   "cell_type": "code",
   "execution_count": 4,
   "metadata": {},
   "outputs": [],
   "source": [
    "import warnings\n",
    "warnings.simplefilter(action='ignore', category=FutureWarning)"
   ]
  },
  {
   "cell_type": "code",
   "execution_count": 5,
   "metadata": {},
   "outputs": [],
   "source": [
    "plt.style.use('seaborn')\n",
    "params = {\n",
    "    'figure.figsize': (15, 5),\n",
    "    'legend.fontsize': 'x-large',\n",
    "    'axes.labelsize': 'x-large',\n",
    "    'axes.titlesize':'x-large',\n",
    "    'xtick.labelsize':'x-large',\n",
    "    'ytick.labelsize':'x-large',\n",
    "    'axes.titlesize': 'x-large',\n",
    "}\n",
    "plt.rcParams.update(params)"
   ]
  },
  {
   "cell_type": "markdown",
   "metadata": {},
   "source": [
    "We retrive the clean dataset obtained in *Data Preparation* phase (see notebook for more details)."
   ]
  },
  {
   "cell_type": "code",
   "execution_count": 6,
   "metadata": {},
   "outputs": [
    {
     "name": "stdout",
     "output_type": "stream",
     "text": [
      "customer_supermarket_clean.csv\n",
      "<class 'pandas.core.frame.DataFrame'>\n",
      "Int64Index: 68148 entries, 0 to 541907\n",
      "Data columns (total 8 columns):\n",
      " #   Column           Non-Null Count  Dtype         \n",
      "---  ------           --------------  -----         \n",
      " 0   BasketID         68148 non-null  int64         \n",
      " 1   BasketDate       68148 non-null  datetime64[ns]\n",
      " 2   Sale             68148 non-null  float64       \n",
      " 3   CustomerID       68148 non-null  int64         \n",
      " 4   CustomerCountry  68148 non-null  object        \n",
      " 5   ProdID           68148 non-null  object        \n",
      " 6   ProdDescr        68148 non-null  object        \n",
      " 7   Qta              68148 non-null  int64         \n",
      "dtypes: datetime64[ns](1), float64(1), int64(3), object(3)\n",
      "memory usage: 4.7+ MB\n"
     ]
    }
   ],
   "source": [
    "print(CLEAN_DATASET_NAME)\n",
    "df = load_customer_data(CLEAN_DATASET_NAME)\n",
    "df.info()"
   ]
  },
  {
   "cell_type": "code",
   "execution_count": 7,
   "metadata": {},
   "outputs": [
    {
     "name": "stdout",
     "output_type": "stream",
     "text": [
      "# of customers:  3755\n"
     ]
    }
   ],
   "source": [
    "df.head()\n",
    "print(\"# of customers: \", df[\"CustomerID\"].nunique())"
   ]
  },
  {
   "cell_type": "code",
   "execution_count": 8,
   "metadata": {},
   "outputs": [],
   "source": [
    "df['ProdDescr'] = df['ProdDescr'].str.strip()\n",
    "df['ProdID'] = df['ProdID'].str.strip()"
   ]
  },
  {
   "cell_type": "markdown",
   "metadata": {},
   "source": [
    "### ProdID transformation\n",
    "Since the algorithms from the SPMF library work with sorted numbers and our ProdID contains strings with letters \n",
    "we map each ID to a positive integer. We also create an inverted dictionary in order to easily find the original ProdID."
   ]
  },
  {
   "cell_type": "code",
   "execution_count": 9,
   "metadata": {},
   "outputs": [],
   "source": [
    "a = set(df['ProdID'])\n",
    "dictionary = {}\n",
    "for i, el in enumerate(a):\n",
    "    dictionary[str(el)] = i+1\n",
    "inverted_dictionary = {v: k for k, v in dictionary.items()}"
   ]
  },
  {
   "cell_type": "code",
   "execution_count": 10,
   "metadata": {},
   "outputs": [
    {
     "data": {
      "text/html": [
       "<div>\n",
       "<style scoped>\n",
       "    .dataframe tbody tr th:only-of-type {\n",
       "        vertical-align: middle;\n",
       "    }\n",
       "\n",
       "    .dataframe tbody tr th {\n",
       "        vertical-align: top;\n",
       "    }\n",
       "\n",
       "    .dataframe thead th {\n",
       "        text-align: right;\n",
       "    }\n",
       "</style>\n",
       "<table border=\"1\" class=\"dataframe\">\n",
       "  <thead>\n",
       "    <tr style=\"text-align: right;\">\n",
       "      <th></th>\n",
       "      <th>BasketID</th>\n",
       "      <th>BasketDate</th>\n",
       "      <th>Sale</th>\n",
       "      <th>CustomerID</th>\n",
       "      <th>CustomerCountry</th>\n",
       "      <th>ProdID</th>\n",
       "      <th>ProdDescr</th>\n",
       "      <th>Qta</th>\n",
       "    </tr>\n",
       "  </thead>\n",
       "  <tbody>\n",
       "    <tr>\n",
       "      <th>0</th>\n",
       "      <td>536365</td>\n",
       "      <td>2010-12-01 08:26:00</td>\n",
       "      <td>2.55</td>\n",
       "      <td>17850</td>\n",
       "      <td>United Kingdom</td>\n",
       "      <td>174</td>\n",
       "      <td>WHITE HANGING HEART T-LIGHT HOLDER</td>\n",
       "      <td>6</td>\n",
       "    </tr>\n",
       "    <tr>\n",
       "      <th>1</th>\n",
       "      <td>536365</td>\n",
       "      <td>2010-12-01 08:26:00</td>\n",
       "      <td>3.39</td>\n",
       "      <td>17850</td>\n",
       "      <td>United Kingdom</td>\n",
       "      <td>377</td>\n",
       "      <td>WHITE METAL LANTERN</td>\n",
       "      <td>6</td>\n",
       "    </tr>\n",
       "    <tr>\n",
       "      <th>2</th>\n",
       "      <td>536365</td>\n",
       "      <td>2010-12-01 08:26:00</td>\n",
       "      <td>2.75</td>\n",
       "      <td>17850</td>\n",
       "      <td>United Kingdom</td>\n",
       "      <td>489</td>\n",
       "      <td>CREAM CUPID HEARTS COAT HANGER</td>\n",
       "      <td>8</td>\n",
       "    </tr>\n",
       "    <tr>\n",
       "      <th>3</th>\n",
       "      <td>536365</td>\n",
       "      <td>2010-12-01 08:26:00</td>\n",
       "      <td>3.39</td>\n",
       "      <td>17850</td>\n",
       "      <td>United Kingdom</td>\n",
       "      <td>426</td>\n",
       "      <td>KNITTED UNION FLAG HOT WATER BOTTLE</td>\n",
       "      <td>6</td>\n",
       "    </tr>\n",
       "    <tr>\n",
       "      <th>4</th>\n",
       "      <td>536365</td>\n",
       "      <td>2010-12-01 08:26:00</td>\n",
       "      <td>3.39</td>\n",
       "      <td>17850</td>\n",
       "      <td>United Kingdom</td>\n",
       "      <td>473</td>\n",
       "      <td>RED WOOLLY HOTTIE WHITE HEART.</td>\n",
       "      <td>6</td>\n",
       "    </tr>\n",
       "    <tr>\n",
       "      <th>6</th>\n",
       "      <td>536365</td>\n",
       "      <td>2010-12-01 08:26:00</td>\n",
       "      <td>4.25</td>\n",
       "      <td>17850</td>\n",
       "      <td>United Kingdom</td>\n",
       "      <td>202</td>\n",
       "      <td>GLASS STAR FROSTED T-LIGHT HOLDER</td>\n",
       "      <td>6</td>\n",
       "    </tr>\n",
       "    <tr>\n",
       "      <th>9</th>\n",
       "      <td>536368</td>\n",
       "      <td>2010-12-01 08:34:00</td>\n",
       "      <td>4.25</td>\n",
       "      <td>13047</td>\n",
       "      <td>United Kingdom</td>\n",
       "      <td>228</td>\n",
       "      <td>JAM MAKING SET WITH JARS</td>\n",
       "      <td>6</td>\n",
       "    </tr>\n",
       "    <tr>\n",
       "      <th>14</th>\n",
       "      <td>536367</td>\n",
       "      <td>2010-12-01 08:34:00</td>\n",
       "      <td>2.10</td>\n",
       "      <td>13047</td>\n",
       "      <td>United Kingdom</td>\n",
       "      <td>564</td>\n",
       "      <td>POPPY'S PLAYHOUSE BEDROOM</td>\n",
       "      <td>6</td>\n",
       "    </tr>\n",
       "    <tr>\n",
       "      <th>15</th>\n",
       "      <td>536367</td>\n",
       "      <td>2010-12-01 08:34:00</td>\n",
       "      <td>2.10</td>\n",
       "      <td>13047</td>\n",
       "      <td>United Kingdom</td>\n",
       "      <td>419</td>\n",
       "      <td>POPPY'S PLAYHOUSE KITCHEN</td>\n",
       "      <td>6</td>\n",
       "    </tr>\n",
       "    <tr>\n",
       "      <th>16</th>\n",
       "      <td>536367</td>\n",
       "      <td>2010-12-01 08:34:00</td>\n",
       "      <td>3.75</td>\n",
       "      <td>13047</td>\n",
       "      <td>United Kingdom</td>\n",
       "      <td>811</td>\n",
       "      <td>FELTCRAFT PRINCESS CHARLOTTE DOLL</td>\n",
       "      <td>8</td>\n",
       "    </tr>\n",
       "  </tbody>\n",
       "</table>\n",
       "</div>"
      ],
      "text/plain": [
       "    BasketID          BasketDate  Sale  CustomerID CustomerCountry  ProdID  \\\n",
       "0     536365 2010-12-01 08:26:00  2.55       17850  United Kingdom     174   \n",
       "1     536365 2010-12-01 08:26:00  3.39       17850  United Kingdom     377   \n",
       "2     536365 2010-12-01 08:26:00  2.75       17850  United Kingdom     489   \n",
       "3     536365 2010-12-01 08:26:00  3.39       17850  United Kingdom     426   \n",
       "4     536365 2010-12-01 08:26:00  3.39       17850  United Kingdom     473   \n",
       "6     536365 2010-12-01 08:26:00  4.25       17850  United Kingdom     202   \n",
       "9     536368 2010-12-01 08:34:00  4.25       13047  United Kingdom     228   \n",
       "14    536367 2010-12-01 08:34:00  2.10       13047  United Kingdom     564   \n",
       "15    536367 2010-12-01 08:34:00  2.10       13047  United Kingdom     419   \n",
       "16    536367 2010-12-01 08:34:00  3.75       13047  United Kingdom     811   \n",
       "\n",
       "                              ProdDescr  Qta  \n",
       "0    WHITE HANGING HEART T-LIGHT HOLDER    6  \n",
       "1                   WHITE METAL LANTERN    6  \n",
       "2        CREAM CUPID HEARTS COAT HANGER    8  \n",
       "3   KNITTED UNION FLAG HOT WATER BOTTLE    6  \n",
       "4        RED WOOLLY HOTTIE WHITE HEART.    6  \n",
       "6     GLASS STAR FROSTED T-LIGHT HOLDER    6  \n",
       "9              JAM MAKING SET WITH JARS    6  \n",
       "14            POPPY'S PLAYHOUSE BEDROOM    6  \n",
       "15            POPPY'S PLAYHOUSE KITCHEN    6  \n",
       "16    FELTCRAFT PRINCESS CHARLOTTE DOLL    8  "
      ]
     },
     "metadata": {},
     "output_type": "display_data"
    }
   ],
   "source": [
    "df['ProdID'] = df['ProdID'].apply(lambda x : dictionary[x])\n",
    "display(df.head(10))"
   ]
  },
  {
   "cell_type": "markdown",
   "metadata": {},
   "source": [
    "### Customer Modeling\n",
    "We model the customer as a sequence of baskets, we remove duplicates from each basket and sort the elements of each basket in lexicographic order required by the SPM algorithms."
   ]
  },
  {
   "cell_type": "code",
   "execution_count": 11,
   "metadata": {},
   "outputs": [
    {
     "data": {
      "text/html": [
       "<div>\n",
       "<style scoped>\n",
       "    .dataframe tbody tr th:only-of-type {\n",
       "        vertical-align: middle;\n",
       "    }\n",
       "\n",
       "    .dataframe tbody tr th {\n",
       "        vertical-align: top;\n",
       "    }\n",
       "\n",
       "    .dataframe thead th {\n",
       "        text-align: right;\n",
       "    }\n",
       "</style>\n",
       "<table border=\"1\" class=\"dataframe\">\n",
       "  <thead>\n",
       "    <tr style=\"text-align: right;\">\n",
       "      <th></th>\n",
       "      <th>CustomerID</th>\n",
       "      <th>Sequence</th>\n",
       "    </tr>\n",
       "  </thead>\n",
       "  <tbody>\n",
       "    <tr>\n",
       "      <th>0</th>\n",
       "      <td>12347</td>\n",
       "      <td>[[1272, 1181, 1115, 1192, 445, 888, 1323, 1358...</td>\n",
       "    </tr>\n",
       "    <tr>\n",
       "      <th>1</th>\n",
       "      <td>12349</td>\n",
       "      <td>[[244, 83, 1264, 1171, 228, 1308, 332, 593, 10...</td>\n",
       "    </tr>\n",
       "    <tr>\n",
       "      <th>2</th>\n",
       "      <td>12350</td>\n",
       "      <td>[[667, 433, 1101, 1042, 84]]</td>\n",
       "    </tr>\n",
       "    <tr>\n",
       "      <th>3</th>\n",
       "      <td>12352</td>\n",
       "      <td>[[375, 890, 863, 281, 925], [551, 1253], [551,...</td>\n",
       "    </tr>\n",
       "    <tr>\n",
       "      <th>4</th>\n",
       "      <td>12353</td>\n",
       "      <td>[[734]]</td>\n",
       "    </tr>\n",
       "    <tr>\n",
       "      <th>...</th>\n",
       "      <td>...</td>\n",
       "      <td>...</td>\n",
       "    </tr>\n",
       "    <tr>\n",
       "      <th>3750</th>\n",
       "      <td>18280</td>\n",
       "      <td>[[237, 1192, 888, 1227, 20, 1341]]</td>\n",
       "    </tr>\n",
       "    <tr>\n",
       "      <th>3751</th>\n",
       "      <td>18281</td>\n",
       "      <td>[[237]]</td>\n",
       "    </tr>\n",
       "    <tr>\n",
       "      <th>3752</th>\n",
       "      <td>18282</td>\n",
       "      <td>[[1244, 904], [568, 168, 926]]</td>\n",
       "    </tr>\n",
       "    <tr>\n",
       "      <th>3753</th>\n",
       "      <td>18283</td>\n",
       "      <td>[[174, 838], [41, 1145], [41, 1145, 120, 254, ...</td>\n",
       "    </tr>\n",
       "    <tr>\n",
       "      <th>3754</th>\n",
       "      <td>18287</td>\n",
       "      <td>[[1302, 477, 68, 282, 664, 1331, 1209, 655], [...</td>\n",
       "    </tr>\n",
       "  </tbody>\n",
       "</table>\n",
       "<p>3755 rows × 2 columns</p>\n",
       "</div>"
      ],
      "text/plain": [
       "      CustomerID                                           Sequence\n",
       "0          12347  [[1272, 1181, 1115, 1192, 445, 888, 1323, 1358...\n",
       "1          12349  [[244, 83, 1264, 1171, 228, 1308, 332, 593, 10...\n",
       "2          12350                       [[667, 433, 1101, 1042, 84]]\n",
       "3          12352  [[375, 890, 863, 281, 925], [551, 1253], [551,...\n",
       "4          12353                                            [[734]]\n",
       "...          ...                                                ...\n",
       "3750       18280                 [[237, 1192, 888, 1227, 20, 1341]]\n",
       "3751       18281                                            [[237]]\n",
       "3752       18282                     [[1244, 904], [568, 168, 926]]\n",
       "3753       18283  [[174, 838], [41, 1145], [41, 1145, 120, 254, ...\n",
       "3754       18287  [[1302, 477, 68, 282, 664, 1331, 1209, 655], [...\n",
       "\n",
       "[3755 rows x 2 columns]"
      ]
     },
     "metadata": {},
     "output_type": "display_data"
    }
   ],
   "source": [
    "prof = df.groupby(['CustomerID', 'BasketID'])['ProdID'].unique().reset_index()\n",
    "prof = prof[['CustomerID', 'ProdID']].groupby('CustomerID')[\"ProdID\"].apply(list).reset_index()\n",
    "prof.columns = ['CustomerID', 'Sequence']\n",
    "display(prof)"
   ]
  },
  {
   "cell_type": "code",
   "execution_count": 12,
   "metadata": {},
   "outputs": [],
   "source": [
    "def dedup_and_sort(ll):\n",
    "    \"\"\"removes duplicate from a basket and sorts it\"\"\"\n",
    "    def f(l):\n",
    "        l.sort()\n",
    "        return l\n",
    "    return list(map(f, ll))"
   ]
  },
  {
   "cell_type": "code",
   "execution_count": 13,
   "metadata": {},
   "outputs": [
    {
     "name": "stdout",
     "output_type": "stream",
     "text": [
      "# sequences = 3755\n"
     ]
    },
    {
     "data": {
      "text/html": [
       "<div>\n",
       "<style scoped>\n",
       "    .dataframe tbody tr th:only-of-type {\n",
       "        vertical-align: middle;\n",
       "    }\n",
       "\n",
       "    .dataframe tbody tr th {\n",
       "        vertical-align: top;\n",
       "    }\n",
       "\n",
       "    .dataframe thead th {\n",
       "        text-align: right;\n",
       "    }\n",
       "</style>\n",
       "<table border=\"1\" class=\"dataframe\">\n",
       "  <thead>\n",
       "    <tr style=\"text-align: right;\">\n",
       "      <th></th>\n",
       "      <th>CustomerID</th>\n",
       "      <th>Sequence</th>\n",
       "    </tr>\n",
       "  </thead>\n",
       "  <tbody>\n",
       "    <tr>\n",
       "      <th>0</th>\n",
       "      <td>12347</td>\n",
       "      <td>[[25, 71, 199, 317, 445, 888, 1040, 1115, 1181...</td>\n",
       "    </tr>\n",
       "    <tr>\n",
       "      <th>1</th>\n",
       "      <td>12349</td>\n",
       "      <td>[[75, 83, 101, 228, 244, 272, 332, 354, 518, 5...</td>\n",
       "    </tr>\n",
       "    <tr>\n",
       "      <th>2</th>\n",
       "      <td>12350</td>\n",
       "      <td>[[84, 433, 667, 1042, 1101]]</td>\n",
       "    </tr>\n",
       "    <tr>\n",
       "      <th>3</th>\n",
       "      <td>12352</td>\n",
       "      <td>[[281, 375, 863, 890, 925], [551, 1253], [551,...</td>\n",
       "    </tr>\n",
       "    <tr>\n",
       "      <th>4</th>\n",
       "      <td>12353</td>\n",
       "      <td>[[734]]</td>\n",
       "    </tr>\n",
       "    <tr>\n",
       "      <th>...</th>\n",
       "      <td>...</td>\n",
       "      <td>...</td>\n",
       "    </tr>\n",
       "    <tr>\n",
       "      <th>3750</th>\n",
       "      <td>18280</td>\n",
       "      <td>[[20, 237, 888, 1192, 1227, 1341]]</td>\n",
       "    </tr>\n",
       "    <tr>\n",
       "      <th>3751</th>\n",
       "      <td>18281</td>\n",
       "      <td>[[237]]</td>\n",
       "    </tr>\n",
       "    <tr>\n",
       "      <th>3752</th>\n",
       "      <td>18282</td>\n",
       "      <td>[[904, 1244], [168, 568, 926]]</td>\n",
       "    </tr>\n",
       "    <tr>\n",
       "      <th>3753</th>\n",
       "      <td>18283</td>\n",
       "      <td>[[174, 838], [41, 1145], [41, 120, 254, 1145, ...</td>\n",
       "    </tr>\n",
       "    <tr>\n",
       "      <th>3754</th>\n",
       "      <td>18287</td>\n",
       "      <td>[[68, 282, 477, 655, 664, 1209, 1302, 1331], [...</td>\n",
       "    </tr>\n",
       "  </tbody>\n",
       "</table>\n",
       "<p>3755 rows × 2 columns</p>\n",
       "</div>"
      ],
      "text/plain": [
       "      CustomerID                                           Sequence\n",
       "0          12347  [[25, 71, 199, 317, 445, 888, 1040, 1115, 1181...\n",
       "1          12349  [[75, 83, 101, 228, 244, 272, 332, 354, 518, 5...\n",
       "2          12350                       [[84, 433, 667, 1042, 1101]]\n",
       "3          12352  [[281, 375, 863, 890, 925], [551, 1253], [551,...\n",
       "4          12353                                            [[734]]\n",
       "...          ...                                                ...\n",
       "3750       18280                 [[20, 237, 888, 1192, 1227, 1341]]\n",
       "3751       18281                                            [[237]]\n",
       "3752       18282                     [[904, 1244], [168, 568, 926]]\n",
       "3753       18283  [[174, 838], [41, 1145], [41, 120, 254, 1145, ...\n",
       "3754       18287  [[68, 282, 477, 655, 664, 1209, 1302, 1331], [...\n",
       "\n",
       "[3755 rows x 2 columns]"
      ]
     },
     "metadata": {},
     "output_type": "display_data"
    }
   ],
   "source": [
    "prof['Sequence'] = prof['Sequence'].apply(dedup_and_sort)\n",
    "print(f'# sequences = {len(prof)}')\n",
    "display(prof)"
   ]
  },
  {
   "cell_type": "markdown",
   "metadata": {},
   "source": [
    "### Customer Filtering"
   ]
  },
  {
   "cell_type": "markdown",
   "metadata": {},
   "source": [
    "We filter out the customers with only one basket"
   ]
  },
  {
   "cell_type": "code",
   "execution_count": 14,
   "metadata": {},
   "outputs": [
    {
     "name": "stdout",
     "output_type": "stream",
     "text": [
      "the new length of the profile is 1537\n"
     ]
    }
   ],
   "source": [
    "filtered = prof['Sequence'].apply(lambda x : len(x) > 2)\n",
    "filtered = prof[filtered]\n",
    "prof = filtered\n",
    "print(f'the new length of the profile is {len(prof)}')"
   ]
  },
  {
   "cell_type": "code",
   "execution_count": 15,
   "metadata": {},
   "outputs": [],
   "source": [
    "SEQUENCE_FILENAME='sequence.txt'"
   ]
  },
  {
   "cell_type": "markdown",
   "metadata": {},
   "source": [
    "We now convert the dataframe with the sequences in the format used by the SPMF library. The format is the following:  \n",
    "Input file format is a text file where each line represents a sequence from a sequence database. Each item from a sequence is a positive integer and items from the same itemset within a sequence are separated by single space. Note that it is assumed that items within a same itemset are sorted according to a total order and that no item can appear twice in the same itemset. The value \"-1\" indicates the end of an itemset. The value \"-2\" indicates the end of a sequence (it appears at the end of each line)."
   ]
  },
  {
   "cell_type": "code",
   "execution_count": 16,
   "metadata": {},
   "outputs": [],
   "source": [
    "def convert_and_save(serie, filename=SEQUENCE_FILENAME):\n",
    "    \"\"\"in the file format used by the spmf library:\n",
    "        The value \"-1\" indicates the end of an itemset.\n",
    "        The value \"-2\" indicates the end of a sequence\"\"\"    \n",
    "    with open(filename, 'w') as f:\n",
    "        for l in serie:\n",
    "            s = \"\"\n",
    "            for e in l:\n",
    "                for j in e:\n",
    "                    s += str(j) + \" \"\n",
    "                s += \"-1 \"\n",
    "            s += \"-2\\n\"\n",
    "            f.write(s)\n",
    "            "
   ]
  },
  {
   "cell_type": "code",
   "execution_count": 17,
   "metadata": {},
   "outputs": [],
   "source": [
    "convert_and_save(prof['Sequence'])"
   ]
  },
  {
   "cell_type": "markdown",
   "metadata": {},
   "source": [
    "# Sequential Pattern Mining"
   ]
  },
  {
   "cell_type": "markdown",
   "metadata": {},
   "source": [
    "### NOTE\n",
    "SPM is a computational intensive activity. On some machines the library used may raise an error due to the fact the JVM uses too much heap mempry. If that happens just raise the minsup parameters by 0.01 until the error disappears."
   ]
  },
  {
   "cell_type": "code",
   "execution_count": 18,
   "metadata": {},
   "outputs": [],
   "source": [
    "def spmf_file_loader_and_parser(filename, with_prod_id=True, delete_file=False, splitter='-1 #SUP:', no_singletons=True):\n",
    "    \"\"\"read the output file produced by the SPM algorithms\n",
    "    Parameters\n",
    "    ----------\n",
    "        filename     - name of the file.\n",
    "        with_prod_id - flag indicating if replacing the fake id with the original one.\n",
    "        delete_file  - if true delete the file after reading from it.\n",
    "        splitter     - string where to split the file lines.\n",
    "    \"\"\"\n",
    "    lines = None\n",
    "    \n",
    "    def strip_list(l):\n",
    "        \"\"\"strips all the elements in the list l\"\"\"\n",
    "        return [x.strip() for x in l]\n",
    "    \n",
    "    with open(filename, 'r') as f:\n",
    "        lines = f.readlines()\n",
    "        lines = [ l.split(splitter) for l in lines ]\n",
    "        lines = [ (a[0].strip(), a[1].strip()) for a in lines ]\n",
    "        lines = [ (strip_list(a[0].split('-1')), a[1]) for a in lines ]\n",
    "        \n",
    "    #Reinserting ProdID\n",
    "    if with_prod_id == True:\n",
    "        def replace_id(lis):\n",
    "            def replace_and_put_together(x):\n",
    "                \"\"\"replace values of the form 'aaa bbb'\"\"\"\n",
    "                l = x.split(' ')\n",
    "                l = [inverted_dictionary[int(x)] for x in l]\n",
    "                return ' '.join(l)\n",
    "            return [inverted_dictionary[int(x)] if len(x.split(' ')) ==1 else replace_and_put_together(x) for x in lis]\n",
    "        lines = [ (replace_id(a[0]), a[1]) for a in lines]\n",
    "    if delete_file:\n",
    "        import os\n",
    "        os.remove(filename)\n",
    "    return lines"
   ]
  },
  {
   "cell_type": "code",
   "execution_count": 19,
   "metadata": {},
   "outputs": [],
   "source": [
    "from mylib.utilities import Timer\n",
    "timer = Timer()"
   ]
  },
  {
   "cell_type": "code",
   "execution_count": 20,
   "metadata": {},
   "outputs": [],
   "source": [
    "from spmf import Spmf"
   ]
  },
  {
   "cell_type": "code",
   "execution_count": 21,
   "metadata": {},
   "outputs": [],
   "source": [
    "patterns = {}"
   ]
  },
  {
   "cell_type": "code",
   "execution_count": 22,
   "metadata": {},
   "outputs": [
    {
     "name": "stdout",
     "output_type": "stream",
     "text": [
      ">/home/fabsam/Documenti/university/masterDegree/2_year/DM/DM_project/4.SequentialPatternMining/spmf.jar\n",
      "=============  Algorithm - STATISTICS =============\n",
      " Total time ~ 57 ms\n",
      " Frequent sequences count : 153\n",
      " Join count : 280\n",
      " Max memory (mb):26.7064208984375\n",
      "Content at file SPADE.txt\n",
      "===================================================\n",
      "\n",
      "\n"
     ]
    }
   ],
   "source": [
    "OUT = 'SPADE.txt'\n",
    "args = [0.06]\n",
    "\n",
    "SPADE = Spmf('SPADE', input_filename=SEQUENCE_FILENAME, output_filename=OUT, arguments=args)\n",
    "\n",
    "timer.start('spade')\n",
    "SPADE.run()\n",
    "timer.stop()\n",
    "\n",
    "patterns['spade'] = spmf_file_loader_and_parser(OUT, True, True)"
   ]
  },
  {
   "cell_type": "code",
   "execution_count": 23,
   "metadata": {},
   "outputs": [
    {
     "name": "stdout",
     "output_type": "stream",
     "text": [
      ">/home/fabsam/Documenti/university/masterDegree/2_year/DM/DM_project/4.SequentialPatternMining/spmf.jar\n",
      "=============  Algorithm - STATISTICS =============\n",
      " Total time ~ 1659 ms\n",
      " Frequent sequences count : 153\n",
      " Join count : 0\n",
      " Max memory (mb):243.71790313720703\n",
      "Content at file SPADE_PAR.txt\n",
      "===================================================\n",
      "\n",
      "\n"
     ]
    }
   ],
   "source": [
    "OUT = 'SPADE_PAR.txt'\n",
    "args = [0.06]\n",
    "# with 0.06 it raises JAVA_ERROR: Index out of bound on one machine running MacOs but works on the Ubuntu one, in\n",
    "# case of error increase the value by 0.01 until the error disappears. The error is due to the fact the alg. uses too \n",
    "#much heap memory\n",
    "SPADE_PAR = Spmf('SPADE_Parallelized', input_filename=SEQUENCE_FILENAME, output_filename=OUT, arguments=args)\n",
    "\n",
    "timer.start('spade_par')\n",
    "SPADE_PAR.run()\n",
    "timer.stop()\n",
    "\n",
    "patterns['spade_par'] = spmf_file_loader_and_parser(OUT, True, True)"
   ]
  },
  {
   "cell_type": "code",
   "execution_count": 24,
   "metadata": {},
   "outputs": [
    {
     "name": "stdout",
     "output_type": "stream",
     "text": [
      ">/home/fabsam/Documenti/university/masterDegree/2_year/DM/DM_project/4.SequentialPatternMining/spmf.jar\n",
      "=============  CM-SPADE -- Algorithm - STATISTICS =============\n",
      " Total time ~ 177 ms\n",
      " Frequent sequences count : 153\n",
      " Join count : 71\n",
      " Max memory (mb):35.72771453857422\n",
      "Content at file CMSPADE.txt\n",
      "===================================================\n",
      "\n",
      "\n"
     ]
    }
   ],
   "source": [
    "OUT='CMSPADE.txt'\n",
    "args = [0.06]\n",
    "\n",
    "CM_SPADE_PAR = Spmf('CM-SPADE', input_filename=SEQUENCE_FILENAME, output_filename=OUT, arguments=args)\n",
    "\n",
    "timer.start('cmspade')\n",
    "CM_SPADE_PAR.run()\n",
    "timer.stop()\n",
    "\n",
    "patterns['cmspade'] = spmf_file_loader_and_parser(OUT, True, True)"
   ]
  },
  {
   "cell_type": "code",
   "execution_count": 25,
   "metadata": {},
   "outputs": [
    {
     "name": "stdout",
     "output_type": "stream",
     "text": [
      ">/home/fabsam/Documenti/university/masterDegree/2_year/DM/DM_project/4.SequentialPatternMining/spmf.jar\n",
      "=============  Algorithm - STATISTICS =============\n",
      " Total time ~ 7332 ms\n",
      " Frequent sequences count : 153\n",
      " Max memory (mb):562.7855529785156\n",
      "===================================================\n",
      "\n",
      "\n"
     ]
    }
   ],
   "source": [
    "OUT='GSP.txt'\n",
    "args = [0.06]\n",
    "\n",
    "GSP = Spmf('GSP', input_filename=SEQUENCE_FILENAME, output_filename=OUT, arguments=args)\n",
    "\n",
    "timer.start('gsp')\n",
    "GSP.run()\n",
    "timer.stop()\n",
    "\n",
    "patterns['gsp'] = spmf_file_loader_and_parser(OUT, True, True)"
   ]
  },
  {
   "cell_type": "code",
   "execution_count": 26,
   "metadata": {},
   "outputs": [
    {
     "name": "stdout",
     "output_type": "stream",
     "text": [
      ">/home/fabsam/Documenti/university/masterDegree/2_year/DM/DM_project/4.SequentialPatternMining/spmf.jar\n",
      "=============  Algorithm CloFast v2.29 - STATISTICS =============\n",
      "Number of closed Patterns found : 153\n",
      "  Pattern count : 153\n",
      "  Pruned Pattern count : 0\n",
      "Total time: 0.769 s \n",
      "Max memory (mb) : 189.49803161621094\n",
      "===================================================\n",
      "\n",
      "\n"
     ]
    }
   ],
   "source": [
    "OUT='CLOFAST.txt'\n",
    "args = [0.06]\n",
    "\n",
    "CLOFAST = Spmf('CloFast', input_filename=SEQUENCE_FILENAME, output_filename=OUT, arguments=args)\n",
    "\n",
    "timer.start('clofast')\n",
    "CLOFAST.run()\n",
    "timer.stop()\n",
    "\n",
    "patterns['clofast'] = spmf_file_loader_and_parser(OUT, True, True, '-1 -2 #SUP:')"
   ]
  },
  {
   "cell_type": "code",
   "execution_count": 27,
   "metadata": {},
   "outputs": [
    {
     "name": "stdout",
     "output_type": "stream",
     "text": [
      ">/home/fabsam/Documenti/university/masterDegree/2_year/DM/DM_project/4.SequentialPatternMining/spmf.jar\n",
      "============  BIDE+ - SPMF 0.99c - 2016 - STATISTICS =====\n",
      " Total time ~ 454 ms\n",
      " Frequent sequences count : 153\n",
      " Max memory (mb) : 33.23341369628906\n",
      " minsup = 93 sequences.\n",
      " Pattern count : 153\n",
      "==========================================================\n",
      "\n",
      "\n"
     ]
    }
   ],
   "source": [
    "OUT='BIDEPLUS.txt'\n",
    "# with 0.06 it raises JAVA_ERROR: Index out of bound on one machine running MacOs but works on the Ubuntu one, in\n",
    "# case of error increase the value by 0.01 until the error disappears. The error is due to the fact the alg. uses too \n",
    "#much heap memory\n",
    "args = [0.06] \n",
    "\n",
    "BIDEPLUS = Spmf('BIDE+', input_filename=SEQUENCE_FILENAME, output_filename=OUT, arguments=args)\n",
    "\n",
    "timer.start('bide+')\n",
    "BIDEPLUS.run()\n",
    "timer.stop()\n",
    "\n",
    "patterns['bide+'] = spmf_file_loader_and_parser(OUT, True, True)"
   ]
  },
  {
   "cell_type": "code",
   "execution_count": 28,
   "metadata": {},
   "outputs": [],
   "source": [
    "algorithms = [k for k, t in timer.getValList()] \n",
    "times = [t for k, t in timer.getValList()]\n",
    "fsc = [len(fsc_i) for fsc_i in list(patterns.values())]\n",
    "# memory usage was computed as average on 20 runs (written by hand)\n",
    "mems = [26.66, 247.38, 35.67, 562.76, 189.77, 33.22]\n",
    "spm_results = {\n",
    "    \"Algorithm\": algorithms,\n",
    "    \"Computational cost (ms)\": times,\n",
    "    \"Frequent sequences count\": fsc,\n",
    "    \"Max Memory (mb)\": mems\n",
    "}"
   ]
  },
  {
   "cell_type": "code",
   "execution_count": 29,
   "metadata": {},
   "outputs": [
    {
     "data": {
      "text/html": [
       "<div>\n",
       "<style scoped>\n",
       "    .dataframe tbody tr th:only-of-type {\n",
       "        vertical-align: middle;\n",
       "    }\n",
       "\n",
       "    .dataframe tbody tr th {\n",
       "        vertical-align: top;\n",
       "    }\n",
       "\n",
       "    .dataframe thead th {\n",
       "        text-align: right;\n",
       "    }\n",
       "</style>\n",
       "<table border=\"1\" class=\"dataframe\">\n",
       "  <thead>\n",
       "    <tr style=\"text-align: right;\">\n",
       "      <th></th>\n",
       "      <th>Algorithm</th>\n",
       "      <th>Computational cost (ms)</th>\n",
       "      <th>Frequent sequences count</th>\n",
       "      <th>Max Memory (mb)</th>\n",
       "    </tr>\n",
       "  </thead>\n",
       "  <tbody>\n",
       "    <tr>\n",
       "      <th>0</th>\n",
       "      <td>spade</td>\n",
       "      <td>613.857508</td>\n",
       "      <td>153</td>\n",
       "      <td>26.66</td>\n",
       "    </tr>\n",
       "    <tr>\n",
       "      <th>1</th>\n",
       "      <td>spade_par</td>\n",
       "      <td>2275.879622</td>\n",
       "      <td>153</td>\n",
       "      <td>247.38</td>\n",
       "    </tr>\n",
       "    <tr>\n",
       "      <th>2</th>\n",
       "      <td>cmspade</td>\n",
       "      <td>660.128117</td>\n",
       "      <td>153</td>\n",
       "      <td>35.67</td>\n",
       "    </tr>\n",
       "    <tr>\n",
       "      <th>3</th>\n",
       "      <td>gsp</td>\n",
       "      <td>7746.211529</td>\n",
       "      <td>153</td>\n",
       "      <td>562.76</td>\n",
       "    </tr>\n",
       "    <tr>\n",
       "      <th>4</th>\n",
       "      <td>clofast</td>\n",
       "      <td>1099.481583</td>\n",
       "      <td>153</td>\n",
       "      <td>189.77</td>\n",
       "    </tr>\n",
       "    <tr>\n",
       "      <th>5</th>\n",
       "      <td>bide+</td>\n",
       "      <td>765.447617</td>\n",
       "      <td>153</td>\n",
       "      <td>33.22</td>\n",
       "    </tr>\n",
       "  </tbody>\n",
       "</table>\n",
       "</div>"
      ],
      "text/plain": [
       "   Algorithm  Computational cost (ms)  Frequent sequences count  \\\n",
       "0      spade               613.857508                       153   \n",
       "1  spade_par              2275.879622                       153   \n",
       "2    cmspade               660.128117                       153   \n",
       "3        gsp              7746.211529                       153   \n",
       "4    clofast              1099.481583                       153   \n",
       "5      bide+               765.447617                       153   \n",
       "\n",
       "   Max Memory (mb)  \n",
       "0            26.66  \n",
       "1           247.38  \n",
       "2            35.67  \n",
       "3           562.76  \n",
       "4           189.77  \n",
       "5            33.22  "
      ]
     },
     "metadata": {},
     "output_type": "display_data"
    }
   ],
   "source": [
    "spm_results_df = pd.DataFrame(spm_results)\n",
    "#spm_results_df = spm_results_df.set_index(\"Algorithm\")\n",
    "display(spm_results_df)"
   ]
  },
  {
   "cell_type": "markdown",
   "metadata": {},
   "source": [
    "### Computational costs"
   ]
  },
  {
   "cell_type": "code",
   "execution_count": 30,
   "metadata": {},
   "outputs": [
    {
     "data": {
      "image/png": "[encoded data removed]",
      "text/plain": [
       "<Figure size 1080x360 with 1 Axes>"
      ]
     },
     "metadata": {},
     "output_type": "display_data"
    }
   ],
   "source": [
    "sns.barplot(x=\"Algorithm\", y=\"Computational cost (ms)\", data=spm_results_df)\n",
    "plt.show()"
   ]
  },
  {
   "cell_type": "markdown",
   "metadata": {},
   "source": [
    "### Frequent sequences counts"
   ]
  },
  {
   "cell_type": "code",
   "execution_count": 31,
   "metadata": {},
   "outputs": [
    {
     "data": {
      "image/png": "[encoded data removed]",
      "text/plain": [
       "<Figure size 1080x360 with 1 Axes>"
      ]
     },
     "metadata": {},
     "output_type": "display_data"
    }
   ],
   "source": [
    "sns.barplot(y=\"Algorithm\", x=\"Frequent sequences count\", data=spm_results_df)\n",
    "plt.show()"
   ]
  },
  {
   "cell_type": "markdown",
   "metadata": {},
   "source": [
    "### Memory usage"
   ]
  },
  {
   "cell_type": "code",
   "execution_count": 32,
   "metadata": {},
   "outputs": [
    {
     "data": {
      "image/png": "[encoded data removed]",
      "text/plain": [
       "<Figure size 1080x360 with 1 Axes>"
      ]
     },
     "metadata": {},
     "output_type": "display_data"
    }
   ],
   "source": [
    "sns.barplot(x=\"Algorithm\", y=\"Max Memory (mb)\", data=spm_results_df)\n",
    "plt.show()"
   ]
  },
  {
   "cell_type": "markdown",
   "metadata": {},
   "source": [
    "Let's reset the original ProdID in the dataset."
   ]
  },
  {
   "cell_type": "code",
   "execution_count": 33,
   "metadata": {},
   "outputs": [],
   "source": [
    "df['ProdID'] = df['ProdID'].apply(lambda x : inverted_dictionary[x])"
   ]
  },
  {
   "cell_type": "code",
   "execution_count": 34,
   "metadata": {},
   "outputs": [],
   "source": [
    "def remove_singletons(l, remove_support=True):\n",
    "    \"\"\"removes singletons from the patterns\"\"\"\n",
    "    s = []\n",
    "    for (a,b) in l:\n",
    "        if len(a) > 1:\n",
    "            s.append((a,b))\n",
    "    s = s if remove_support == False else [a for (a,b) in s]\n",
    "    return s"
   ]
  },
  {
   "cell_type": "code",
   "execution_count": 35,
   "metadata": {},
   "outputs": [
    {
     "data": {
      "text/plain": [
       "[['23201', '85099B'],\n",
       " ['85123A', '85123A', '85123A'],\n",
       " ['85123A', '85123A'],\n",
       " ['22960', '22960'],\n",
       " ['22726', '22727'],\n",
       " ['22726', '22726'],\n",
       " ['23203', '23344'],\n",
       " ['23203', '23203'],\n",
       " ['23203', '85099B'],\n",
       " ['22457', '22457'],\n",
       " ['85099B', '23199'],\n",
       " ['85099B', '23344'],\n",
       " ['85099B', '23201'],\n",
       " ['85099B', '23203'],\n",
       " ['85099B', '23202'],\n",
       " ['85099B', '85099B'],\n",
       " ['85099B', '22386'],\n",
       " ['82482', '82494L'],\n",
       " ['82482', '82482'],\n",
       " ['82494L', '82494L'],\n",
       " ['22727', '22727'],\n",
       " ['22727', '22726'],\n",
       " ['22386', '23203'],\n",
       " ['22386', '22386'],\n",
       " ['22728', '22727']]"
      ]
     },
     "execution_count": 35,
     "metadata": {},
     "output_type": "execute_result"
    }
   ],
   "source": [
    "a = remove_singletons(patterns['bide+'])\n",
    "a"
   ]
  },
  {
   "cell_type": "markdown",
   "metadata": {},
   "source": [
    "# SPM with temporal constraints"
   ]
  },
  {
   "cell_type": "markdown",
   "metadata": {},
   "source": [
    "First we annotate the dataset with time information. The format that the SPMF library takes is documented below:  \n",
    "Each line is a list of itemsets, where each itemset has a timestamp represented by a positive integer and each item is represented by a positive integer. Each itemset is first represented by it timestamp between the \"<\" and \"> symbol. Then, the items of the itemset appear separated by single spaces. Finally, the end of an itemset is indicated by \"-1\". After all the itemsets, the end of a sequence (line) is indicated by the symbol \"-2\". Note that it is assumed that items are sorted according to a total order in each itemset and that no item appears twice in the same itemset."
   ]
  },
  {
   "cell_type": "markdown",
   "metadata": {},
   "source": [
    "First we replace the id's again."
   ]
  },
  {
   "cell_type": "code",
   "execution_count": 36,
   "metadata": {},
   "outputs": [],
   "source": [
    "df['ProdID'] = df['ProdID'].apply(lambda x : dictionary[x])"
   ]
  },
  {
   "cell_type": "markdown",
   "metadata": {},
   "source": [
    "We create a timeseries of baskets with the time units being months."
   ]
  },
  {
   "cell_type": "code",
   "execution_count": 37,
   "metadata": {},
   "outputs": [],
   "source": [
    "df['Month'] = df['BasketDate'].dt.month\n",
    "df['Year'] = df['BasketDate'].dt.year"
   ]
  },
  {
   "cell_type": "markdown",
   "metadata": {},
   "source": [
    "We assign 0 to the first month to distinguish it from the same month of the following year"
   ]
  },
  {
   "cell_type": "code",
   "execution_count": 38,
   "metadata": {},
   "outputs": [],
   "source": [
    "df.loc[(df['Month']==12) & (df['Year']==2010), 'Month'] = 0"
   ]
  },
  {
   "cell_type": "markdown",
   "metadata": {},
   "source": [
    "This function performs the same basked grouping performed fot the SPM without temporal constraints but on a monthly basis so we'll have the baskets for each month."
   ]
  },
  {
   "cell_type": "code",
   "execution_count": 39,
   "metadata": {},
   "outputs": [],
   "source": [
    "def monthly_baskets(df, month):\n",
    "    month_orders = df.loc[df['Month'] == month]\n",
    "    o = month_orders.groupby(['CustomerID', 'BasketID'])['ProdID'].unique().reset_index()\n",
    "    o = o[['CustomerID', 'ProdID']].groupby('CustomerID')[\"ProdID\"].apply(list).reset_index()\n",
    "    o.columns = ['CustomerID', str(month)]\n",
    "    o[str(month)] = o[str(month)].apply(dedup_and_sort)\n",
    "    return o"
   ]
  },
  {
   "cell_type": "code",
   "execution_count": 40,
   "metadata": {},
   "outputs": [],
   "source": [
    "MONTHSRANGE = range(0,13)\n",
    "monthly_baskets_list = [monthly_baskets(df, i) for i in MONTHSRANGE]"
   ]
  },
  {
   "cell_type": "code",
   "execution_count": 41,
   "metadata": {},
   "outputs": [
    {
     "name": "stdout",
     "output_type": "stream",
     "text": [
      "3755\n"
     ]
    },
    {
     "data": {
      "text/html": [
       "<div>\n",
       "<style scoped>\n",
       "    .dataframe tbody tr th:only-of-type {\n",
       "        vertical-align: middle;\n",
       "    }\n",
       "\n",
       "    .dataframe tbody tr th {\n",
       "        vertical-align: top;\n",
       "    }\n",
       "\n",
       "    .dataframe thead th {\n",
       "        text-align: right;\n",
       "    }\n",
       "</style>\n",
       "<table border=\"1\" class=\"dataframe\">\n",
       "  <thead>\n",
       "    <tr style=\"text-align: right;\">\n",
       "      <th></th>\n",
       "      <th>CustomerID</th>\n",
       "      <th>0</th>\n",
       "      <th>1</th>\n",
       "      <th>2</th>\n",
       "      <th>3</th>\n",
       "      <th>4</th>\n",
       "      <th>5</th>\n",
       "      <th>6</th>\n",
       "      <th>7</th>\n",
       "      <th>8</th>\n",
       "      <th>9</th>\n",
       "      <th>10</th>\n",
       "      <th>11</th>\n",
       "      <th>12</th>\n",
       "    </tr>\n",
       "  </thead>\n",
       "  <tbody>\n",
       "    <tr>\n",
       "      <th>0</th>\n",
       "      <td>17850</td>\n",
       "      <td>[[174, 202, 377, 426, 473, 489], [174, 202, 37...</td>\n",
       "      <td>X</td>\n",
       "      <td>X</td>\n",
       "      <td>X</td>\n",
       "      <td>X</td>\n",
       "      <td>X</td>\n",
       "      <td>X</td>\n",
       "      <td>X</td>\n",
       "      <td>X</td>\n",
       "      <td>X</td>\n",
       "      <td>X</td>\n",
       "      <td>X</td>\n",
       "      <td>X</td>\n",
       "    </tr>\n",
       "    <tr>\n",
       "      <th>1</th>\n",
       "      <td>13047</td>\n",
       "      <td>[[419, 564, 811, 1040], [228]]</td>\n",
       "      <td>X</td>\n",
       "      <td>[[128, 228, 302, 344, 419, 512, 564, 811, 1040...</td>\n",
       "      <td>[[128, 174, 228, 639, 1040, 1308]]</td>\n",
       "      <td>X</td>\n",
       "      <td>[[36, 46, 128, 204, 315, 421, 641, 1040, 1213]]</td>\n",
       "      <td>[[36, 75, 174, 272, 421, 549, 641, 787, 853, 9...</td>\n",
       "      <td>X</td>\n",
       "      <td>[[75, 228, 787, 1064]]</td>\n",
       "      <td>X</td>\n",
       "      <td>[[2, 8, 95, 228, 272, 528, 631, 752, 1199, 127...</td>\n",
       "      <td>X</td>\n",
       "      <td>X</td>\n",
       "    </tr>\n",
       "    <tr>\n",
       "      <th>2</th>\n",
       "      <td>12583</td>\n",
       "      <td>[[293, 445]]</td>\n",
       "      <td>[[445, 888, 1199, 1323, 1358]]</td>\n",
       "      <td>[[615]]</td>\n",
       "      <td>[[437, 503, 1358]]</td>\n",
       "      <td>X</td>\n",
       "      <td>[[423, 687, 1358]]</td>\n",
       "      <td>[[274], [437, 445, 888, 1323, 1358]]</td>\n",
       "      <td>[[442, 1323]]</td>\n",
       "      <td>[[498]]</td>\n",
       "      <td>[[171, 216, 274, 429, 445, 503, 615, 654, 674,...</td>\n",
       "      <td>[[654, 954]]</td>\n",
       "      <td>[[249, 441, 445, 606, 615, 1323], [503]]</td>\n",
       "      <td>[[56, 78, 257, 437, 498, 615, 954, 1199]]</td>\n",
       "    </tr>\n",
       "  </tbody>\n",
       "</table>\n",
       "</div>"
      ],
      "text/plain": [
       "   CustomerID                                                  0  \\\n",
       "0       17850  [[174, 202, 377, 426, 473, 489], [174, 202, 37...   \n",
       "1       13047                     [[419, 564, 811, 1040], [228]]   \n",
       "2       12583                                       [[293, 445]]   \n",
       "\n",
       "                                1  \\\n",
       "0                               X   \n",
       "1                               X   \n",
       "2  [[445, 888, 1199, 1323, 1358]]   \n",
       "\n",
       "                                                   2  \\\n",
       "0                                                  X   \n",
       "1  [[128, 228, 302, 344, 419, 512, 564, 811, 1040...   \n",
       "2                                            [[615]]   \n",
       "\n",
       "                                    3  4  \\\n",
       "0                                   X  X   \n",
       "1  [[128, 174, 228, 639, 1040, 1308]]  X   \n",
       "2                  [[437, 503, 1358]]  X   \n",
       "\n",
       "                                                 5  \\\n",
       "0                                                X   \n",
       "1  [[36, 46, 128, 204, 315, 421, 641, 1040, 1213]]   \n",
       "2                               [[423, 687, 1358]]   \n",
       "\n",
       "                                                   6              7  \\\n",
       "0                                                  X              X   \n",
       "1  [[36, 75, 174, 272, 421, 549, 641, 787, 853, 9...              X   \n",
       "2               [[274], [437, 445, 888, 1323, 1358]]  [[442, 1323]]   \n",
       "\n",
       "                        8                                                  9  \\\n",
       "0                       X                                                  X   \n",
       "1  [[75, 228, 787, 1064]]                                                  X   \n",
       "2                 [[498]]  [[171, 216, 274, 429, 445, 503, 615, 654, 674,...   \n",
       "\n",
       "                                                  10  \\\n",
       "0                                                  X   \n",
       "1  [[2, 8, 95, 228, 272, 528, 631, 752, 1199, 127...   \n",
       "2                                       [[654, 954]]   \n",
       "\n",
       "                                         11  \\\n",
       "0                                         X   \n",
       "1                                         X   \n",
       "2  [[249, 441, 445, 606, 615, 1323], [503]]   \n",
       "\n",
       "                                          12  \n",
       "0                                          X  \n",
       "1                                          X  \n",
       "2  [[56, 78, 257, 437, 498, 615, 954, 1199]]  "
      ]
     },
     "execution_count": 41,
     "metadata": {},
     "output_type": "execute_result"
    }
   ],
   "source": [
    "from functools import reduce\n",
    "start = pd.DataFrame()\n",
    "start['CustomerID'] = df['CustomerID'].unique()\n",
    "baskets_time = reduce(lambda l, r: pd.merge(l, r, on='CustomerID', how='outer'), monthly_baskets_list).fillna('X')\n",
    "baskets_time = pd.merge(start, baskets_time, on='CustomerID', how='outer').fillna('X')\n",
    "print(len(baskets_time))\n",
    "baskets_time.head(3)"
   ]
  },
  {
   "cell_type": "code",
   "execution_count": 42,
   "metadata": {},
   "outputs": [],
   "source": [
    "TIMED_SEQUENCE_FILENAME='timedsequence.txt'"
   ]
  },
  {
   "cell_type": "code",
   "execution_count": 43,
   "metadata": {},
   "outputs": [],
   "source": [
    "def convert_and_save(serie, filename=SEQUENCE_FILENAME):\n",
    "    \"\"\"in the file format used by the spmf library:\n",
    "        The value \"-1\" indicates the end of an itemset.\n",
    "        The value \"-2\" indicates the end of a sequence\"\"\"    \n",
    "    with open(filename, 'w') as f:\n",
    "        for l in serie:\n",
    "            s = \"\"\n",
    "            for e in l:\n",
    "                for j in e:\n",
    "                    s += str(j) + \" \"\n",
    "                s += \"-1 \"\n",
    "            s += \"-2\\n\"\n",
    "            f.write(s)\n",
    "            "
   ]
  },
  {
   "cell_type": "markdown",
   "metadata": {},
   "source": [
    "We convert the transposed dataframe in the right format and save it to the file `timedsequence.txt`"
   ]
  },
  {
   "cell_type": "code",
   "execution_count": 44,
   "metadata": {},
   "outputs": [],
   "source": [
    "MONTH_FORMATTER = \"<{}> \"\n",
    "with open(TIMED_SEQUENCE_FILENAME, 'w') as f:\n",
    "    for (columnName, columnData) in baskets_time.T.iteritems():\n",
    "        customer_data = \"\"\n",
    "        for i, baskets in enumerate(columnData[1:]):\n",
    "            if type(baskets) is list:\n",
    "                s = \"<\"+str(i)+\"> \"\n",
    "                for basket in baskets:\n",
    "                    s += ' '.join([str(k) for k in basket])\n",
    "                    s += ' -1 '\n",
    "                customer_data += s\n",
    "        customer_data += '-2\\n'\n",
    "        f.write(customer_data)    "
   ]
  },
  {
   "cell_type": "code",
   "execution_count": 45,
   "metadata": {},
   "outputs": [],
   "source": [
    "def spmf_timedfile_loader_and_parser(filename, with_prod_id=True, delete_file=False, splitter='#SUP: '):\n",
    "    \"\"\"read the output file produced by the SPM algorithms that use time annotations.\n",
    "    Parameters\n",
    "    ----------\n",
    "        filename     - name of the file.\n",
    "        with_prod_id - flag indicating if replacing the fake id with the original one.\n",
    "        delete_file  - if true delete the file after reading from it.\n",
    "        splitter     - string where to split the file lines.\n",
    "    \"\"\"\n",
    "    lines = None\n",
    "    \n",
    "    def strip_list(l):\n",
    "        \"\"\"strips all the elements in the list l\"\"\"\n",
    "        return [x.strip() for x in l]\n",
    "    \n",
    "    with open(filename, 'r') as f:\n",
    "        lines = f.readlines()\n",
    "        lines = [ e.strip().split(splitter) for e in lines]\n",
    "        lines = [ (l.split('-1 '), int(r.strip())) for (l,r) in lines]\n",
    "        res = []\n",
    "        for (l, support) in lines:\n",
    "            l = list(filter(lambda x : x != ' ', l))\n",
    "            for e in l:\n",
    "                s = e.replace('<', '').replace('>', '').strip().split(' ')\n",
    "                if with_prod_id:\n",
    "                    s[1:] = [inverted_dictionary[int(i)] for i in s[1:]]\n",
    "                \n",
    "                res.append((s, support))\n",
    "                \n",
    "    if delete_file:\n",
    "        os.remove(filename)\n",
    "    return res"
   ]
  },
  {
   "cell_type": "markdown",
   "metadata": {},
   "source": [
    "## Algorithms"
   ]
  },
  {
   "cell_type": "code",
   "execution_count": 46,
   "metadata": {},
   "outputs": [],
   "source": [
    "patterns_temp = {}"
   ]
  },
  {
   "cell_type": "code",
   "execution_count": 47,
   "metadata": {},
   "outputs": [
    {
     "name": "stdout",
     "output_type": "stream",
     "text": [
      ">/home/fabsam/Documenti/university/masterDegree/2_year/DM/DM_project/4.SequentialPatternMining/spmf.jar\n",
      "=============  Algorithm - STATISTICS =============\n",
      " Total time ~ 304 ms\n",
      " Frequent sequences count : 27\n",
      "===================================================\n",
      "\n",
      "\n"
     ]
    }
   ],
   "source": [
    "OUT='HIRATEYAMANA.txt'\n",
    "# minsup mintimeinterval maxtimeinterval minwholetimeinterval maxwholetimeinterval\n",
    "args = [0.06, 0, 12, 0, 13]\n",
    "\n",
    "HIRATEYAMANA = Spmf('HirateYamana', input_filename=TIMED_SEQUENCE_FILENAME, output_filename=OUT, arguments=args)\n",
    "\n",
    "timer.start('hirateyamana')\n",
    "HIRATEYAMANA.run()\n",
    "timer.stop()\n",
    "\n",
    "patterns_temp['hirateyamana'] = spmf_timedfile_loader_and_parser(OUT, True, True)"
   ]
  },
  {
   "cell_type": "code",
   "execution_count": 48,
   "metadata": {},
   "outputs": [
    {
     "name": "stdout",
     "output_type": "stream",
     "text": [
      ">/home/fabsam/Documenti/university/masterDegree/2_year/DM/DM_project/4.SequentialPatternMining/spmf.jar\n",
      "=============  Algorithm - STATISTICS =============\n",
      " Total time ~ 748 ms\n",
      " Frequent sequences count : 27\n",
      "===================================================\n",
      "\n",
      "\n"
     ]
    }
   ],
   "source": [
    "OUT='FOURNIER.txt'\n",
    "# minsup mintimeinterval maxtimeinterval minwholetimeinterval maxwholetimeinterval\n",
    "args = [0.06, 0, 12, 0, 13]\n",
    "\n",
    "FOURNIER = Spmf('Fournier08-Closed+time', input_filename=TIMED_SEQUENCE_FILENAME, output_filename=OUT, arguments=args)\n",
    "\n",
    "timer.start('fournier')\n",
    "FOURNIER.run()\n",
    "timer.stop()\n",
    "\n",
    "patterns_temp['fournier'] = spmf_timedfile_loader_and_parser(OUT, True, True)"
   ]
  },
  {
   "cell_type": "code",
   "execution_count": 49,
   "metadata": {},
   "outputs": [
    {
     "data": {
      "text/plain": [
       "[(['0', '23202'], 243),\n",
       " (['0', '22865'], 230),\n",
       " (['0', '22386'], 241),\n",
       " (['0', '23199'], 226),\n",
       " (['0', '23084'], 289),\n",
       " (['0', '22411'], 229),\n",
       " (['0', '22149'], 237),\n",
       " (['0', '21181'], 232),\n",
       " (['0', '22727'], 254),\n",
       " (['0', '22697'], 267),\n",
       " (['0', '22960'], 410),\n",
       " (['0', '23203'], 344),\n",
       " (['0', '22457'], 445),\n",
       " (['0', '85099B'], 433),\n",
       " (['0', '82482'], 293),\n",
       " (['0', '22722'], 257),\n",
       " (['0', '23344'], 244),\n",
       " (['0', '22910'], 275),\n",
       " (['0', '22666'], 278),\n",
       " (['0', '21733'], 228),\n",
       " (['0', '22470'], 292),\n",
       " (['0', '22699'], 301),\n",
       " (['0', '82494L'], 271),\n",
       " (['0', '23201'], 257),\n",
       " (['0', '85123A'], 587),\n",
       " (['0', '23240'], 244),\n",
       " (['0', '22086'], 364)]"
      ]
     },
     "execution_count": 49,
     "metadata": {},
     "output_type": "execute_result"
    }
   ],
   "source": [
    "patterns_temp['hirateyamana']"
   ]
  },
  {
   "cell_type": "code",
   "execution_count": 50,
   "metadata": {},
   "outputs": [
    {
     "data": {
      "text/plain": [
       "[(['0', '23202'], 243),\n",
       " (['0', '22865'], 230),\n",
       " (['0', '22386'], 241),\n",
       " (['0', '23199'], 226),\n",
       " (['0', '23084'], 289),\n",
       " (['0', '22411'], 229),\n",
       " (['0', '22149'], 237),\n",
       " (['0', '21181'], 232),\n",
       " (['0', '22727'], 254),\n",
       " (['0', '22697'], 267),\n",
       " (['0', '22960'], 410),\n",
       " (['0', '23203'], 344),\n",
       " (['0', '22457'], 445),\n",
       " (['0', '85099B'], 433),\n",
       " (['0', '82482'], 293),\n",
       " (['0', '22722'], 257),\n",
       " (['0', '23344'], 244),\n",
       " (['0', '22910'], 275),\n",
       " (['0', '22666'], 278),\n",
       " (['0', '21733'], 228),\n",
       " (['0', '22470'], 292),\n",
       " (['0', '22699'], 301),\n",
       " (['0', '82494L'], 271),\n",
       " (['0', '23201'], 257),\n",
       " (['0', '85123A'], 587),\n",
       " (['0', '23240'], 244),\n",
       " (['0', '22086'], 364)]"
      ]
     },
     "execution_count": 50,
     "metadata": {},
     "output_type": "execute_result"
    }
   ],
   "source": [
    "patterns_temp['fournier']"
   ]
  },
  {
   "cell_type": "markdown",
   "metadata": {},
   "source": [
    "Both algorithms find the same patterns."
   ]
  },
  {
   "cell_type": "markdown",
   "metadata": {},
   "source": [
    "The products 85123A and 22457 have the higher a supports with values that are over 440. They correspond to the items:"
   ]
  },
  {
   "cell_type": "code",
   "execution_count": 51,
   "metadata": {},
   "outputs": [
    {
     "name": "stdout",
     "output_type": "stream",
     "text": [
      "WHITE HANGING HEART T-LIGHT HOLDER\n",
      "NATURAL SLATE HEART CHALKBOARD\n"
     ]
    }
   ],
   "source": [
    "from mylib.utilities import get_description_from_prodid\n",
    "df['ProdID'] = df['ProdID'].apply(lambda x : inverted_dictionary[x])\n",
    "print(get_description_from_prodid('85123A', df))\n",
    "print(get_description_from_prodid('22457', df))\n",
    "df['ProdID'] = df['ProdID'].apply(lambda x : dictionary[x])"
   ]
  },
  {
   "cell_type": "code",
   "execution_count": 52,
   "metadata": {},
   "outputs": [],
   "source": [
    "d_timer = dict(timer.getValList())"
   ]
  },
  {
   "cell_type": "code",
   "execution_count": 53,
   "metadata": {},
   "outputs": [],
   "source": [
    "tc_algorithms = [\"hirateyamana\", \"fournier\"]\n",
    "tc_times = [d_timer[\"hirateyamana\"], d_timer[\"fournier\"]]\n",
    "tc_fsc = [len(fsc_i) for fsc_i in list(patterns_temp.values())]\n",
    "tc_spm_results = {\n",
    "    \"Algorithm\": tc_algorithms,\n",
    "    \"Computational cost (ms)\": tc_times,\n",
    "    \"Frequent sequences count\": tc_fsc\n",
    "}"
   ]
  },
  {
   "cell_type": "code",
   "execution_count": 54,
   "metadata": {},
   "outputs": [
    {
     "data": {
      "text/html": [
       "<div>\n",
       "<style scoped>\n",
       "    .dataframe tbody tr th:only-of-type {\n",
       "        vertical-align: middle;\n",
       "    }\n",
       "\n",
       "    .dataframe tbody tr th {\n",
       "        vertical-align: top;\n",
       "    }\n",
       "\n",
       "    .dataframe thead th {\n",
       "        text-align: right;\n",
       "    }\n",
       "</style>\n",
       "<table border=\"1\" class=\"dataframe\">\n",
       "  <thead>\n",
       "    <tr style=\"text-align: right;\">\n",
       "      <th></th>\n",
       "      <th>Algorithm</th>\n",
       "      <th>Computational cost (ms)</th>\n",
       "      <th>Frequent sequences count</th>\n",
       "    </tr>\n",
       "  </thead>\n",
       "  <tbody>\n",
       "    <tr>\n",
       "      <th>0</th>\n",
       "      <td>hirateyamana</td>\n",
       "      <td>748.977184</td>\n",
       "      <td>27</td>\n",
       "    </tr>\n",
       "    <tr>\n",
       "      <th>1</th>\n",
       "      <td>fournier</td>\n",
       "      <td>1220.066071</td>\n",
       "      <td>27</td>\n",
       "    </tr>\n",
       "  </tbody>\n",
       "</table>\n",
       "</div>"
      ],
      "text/plain": [
       "      Algorithm  Computational cost (ms)  Frequent sequences count\n",
       "0  hirateyamana               748.977184                        27\n",
       "1      fournier              1220.066071                        27"
      ]
     },
     "metadata": {},
     "output_type": "display_data"
    }
   ],
   "source": [
    "tc_spm_results_df = pd.DataFrame(tc_spm_results)\n",
    "#spm_results_df = spm_results_df.set_index(\"Algorithm\")\n",
    "display(tc_spm_results_df)"
   ]
  },
  {
   "cell_type": "markdown",
   "metadata": {},
   "source": [
    "### Computational costs"
   ]
  },
  {
   "cell_type": "code",
   "execution_count": 55,
   "metadata": {},
   "outputs": [
    {
     "data": {
      "image/png": "[encoded data removed]",
      "text/plain": [
       "<Figure size 1080x360 with 1 Axes>"
      ]
     },
     "metadata": {},
     "output_type": "display_data"
    }
   ],
   "source": [
    "sns.barplot(x=\"Algorithm\", y=\"Computational cost (ms)\", data=tc_spm_results_df)\n",
    "plt.show()"
   ]
  },
  {
   "cell_type": "markdown",
   "metadata": {},
   "source": [
    "We explored all the combinations of patterns for mintimeinterval maxtimeinterval minwholetimeinterval maxwholetimeinterval but never found sequential patterns with more itemsets so all the found patterns have timestamp 0 since the algorithms assigns relative timestamps to the itemsets starting from 0 and then assigning the timeunits of distance to the others itemsets."
   ]
  },
  {
   "cell_type": "markdown",
   "metadata": {},
   "source": [
    "### Frequent sequences counts"
   ]
  },
  {
   "cell_type": "code",
   "execution_count": 56,
   "metadata": {},
   "outputs": [
    {
     "data": {
      "image/png": "[encoded data removed]",
      "text/plain": [
       "<Figure size 1080x360 with 1 Axes>"
      ]
     },
     "metadata": {},
     "output_type": "display_data"
    }
   ],
   "source": [
    "sns.barplot(y=\"Algorithm\", x=\"Frequent sequences count\", data=tc_spm_results_df)\n",
    "plt.show()"
   ]
  },
  {
   "cell_type": "markdown",
   "metadata": {},
   "source": [
    "# Interesting Patterns"
   ]
  },
  {
   "cell_type": "markdown",
   "metadata": {},
   "source": [
    "With an high value of minsup, above the 25% no frequent patterns emerge. Here we show the patterns found by the fastest algorithm CMSPADE with a threshold of 25%. With this high tresholds the results provided by the various algorithms are virtually identical."
   ]
  },
  {
   "cell_type": "markdown",
   "metadata": {},
   "source": [
    "Here we show the results obtained by CMSPADE and SPADE. They are identical and CMSPADE is a bit faster."
   ]
  },
  {
   "cell_type": "code",
   "execution_count": 57,
   "metadata": {},
   "outputs": [
    {
     "name": "stdout",
     "output_type": "stream",
     "text": [
      ">/home/fabsam/Documenti/university/masterDegree/2_year/DM/DM_project/4.SequentialPatternMining/spmf.jar\n",
      "=============  CM-SPADE -- Algorithm - STATISTICS =============\n",
      " Total time ~ 4 ms\n",
      " Frequent sequences count : 1\n",
      " Join count : 0\n",
      " Max memory (mb):18.809188842773438\n",
      "Content at file CMSPADE_5.txt\n",
      "===================================================\n",
      "\n",
      "\n"
     ]
    },
    {
     "data": {
      "text/plain": [
       "[(['85123A'], '390')]"
      ]
     },
     "execution_count": 57,
     "metadata": {},
     "output_type": "execute_result"
    }
   ],
   "source": [
    "OUT='CMSPADE_5.txt'\n",
    "args = [0.25]\n",
    "\n",
    "CM_SPADE_PAR = Spmf('CM-SPADE', input_filename=SEQUENCE_FILENAME, output_filename=OUT, arguments=args)\n",
    "\n",
    "timer.start('cmspade')\n",
    "CM_SPADE_PAR.run()\n",
    "timer.stop()\n",
    "\n",
    "cmspade = spmf_file_loader_and_parser(OUT, True, True)\n",
    "cmspade"
   ]
  },
  {
   "cell_type": "code",
   "execution_count": 58,
   "metadata": {},
   "outputs": [
    {
     "name": "stdout",
     "output_type": "stream",
     "text": [
      ">/home/fabsam/Documenti/university/masterDegree/2_year/DM/DM_project/4.SequentialPatternMining/spmf.jar\n",
      "=============  Algorithm - STATISTICS =============\n",
      " Total time ~ 7 ms\n",
      " Frequent sequences count : 1\n",
      " Join count : 1\n",
      " Max memory (mb):18.817138671875\n",
      "Content at file SPADE_05.txt\n",
      "===================================================\n",
      "\n",
      "\n"
     ]
    },
    {
     "data": {
      "text/plain": [
       "[(['85123A'], '390')]"
      ]
     },
     "execution_count": 58,
     "metadata": {},
     "output_type": "execute_result"
    }
   ],
   "source": [
    "OUT = 'SPADE_05.txt'\n",
    "args = [0.25]\n",
    "\n",
    "SPADE = Spmf('SPADE', input_filename=SEQUENCE_FILENAME, output_filename=OUT, arguments=args)\n",
    "\n",
    "timer.start('spade')\n",
    "SPADE.run()\n",
    "timer.stop()\n",
    "\n",
    "spade = spmf_file_loader_and_parser(OUT, True, True)\n",
    "spade"
   ]
  },
  {
   "cell_type": "markdown",
   "metadata": {},
   "source": [
    "To find what this frequent items are, first we reinsert the original ids in the DataFrame and then we retrieve the description."
   ]
  },
  {
   "cell_type": "code",
   "execution_count": 59,
   "metadata": {},
   "outputs": [],
   "source": [
    "df['ProdID'] = df['ProdID'].apply(lambda x : inverted_dictionary[x])"
   ]
  },
  {
   "cell_type": "code",
   "execution_count": 60,
   "metadata": {},
   "outputs": [
    {
     "name": "stdout",
     "output_type": "stream",
     "text": [
      "WHITE HANGING HEART T-LIGHT HOLDER\n"
     ]
    }
   ],
   "source": [
    "from mylib.utilities import get_description_from_prodid\n",
    "print(get_description_from_prodid(spade[0][0][0], df))"
   ]
  },
  {
   "cell_type": "code",
   "execution_count": 61,
   "metadata": {},
   "outputs": [
    {
     "data": {
      "image/jpeg": "[encoded data removed]",
      "text/plain": [
       "<IPython.core.display.Image object>"
      ]
     },
     "execution_count": 61,
     "metadata": {
      "image/jpeg": {
       "width": 300
      }
     },
     "output_type": "execute_result"
    }
   ],
   "source": [
    "from IPython.display import Image\n",
    "Image(filename=\"products_imgs/candleholder.jpg\", width=300)"
   ]
  },
  {
   "cell_type": "markdown",
   "metadata": {},
   "source": [
    "# Less frequent but interesting patterns"
   ]
  },
  {
   "cell_type": "markdown",
   "metadata": {},
   "source": [
    "We use the patterns found by CMSPADE"
   ]
  },
  {
   "cell_type": "code",
   "execution_count": 62,
   "metadata": {},
   "outputs": [
    {
     "name": "stdout",
     "output_type": "stream",
     "text": [
      "there are 25 non singletons\n"
     ]
    }
   ],
   "source": [
    "patterns_cm = remove_singletons(patterns['cmspade'])\n",
    "print(f\"there are {len(patterns_cm)} non singletons\")"
   ]
  },
  {
   "cell_type": "markdown",
   "metadata": {},
   "source": [
    "Let's replace the ProdID with the ProdDescr so we can interpret the data."
   ]
  },
  {
   "cell_type": "code",
   "execution_count": 63,
   "metadata": {},
   "outputs": [],
   "source": [
    "def replacing_function(s:str):\n",
    "    s = s.split(' ')\n",
    "    if len(s) == 1:\n",
    "        return get_description_from_prodid(s[0], df)\n",
    "    else:\n",
    "        l = list(map(lambda x: get_description_from_prodid(x, df), s))\n",
    "        return ' | '.join(l)\n",
    "rf = replacing_function"
   ]
  },
  {
   "cell_type": "code",
   "execution_count": 64,
   "metadata": {},
   "outputs": [
    {
     "data": {
      "text/plain": [
       "[['ALARM CLOCK BAKELIKE PINK', 'ALARM CLOCK BAKELIKE RED'],\n",
       " ['JUMBO BAG RED RETROSPOT', 'JUMBO BAG VINTAGE LEAF'],\n",
       " ['JUMBO BAG RED RETROSPOT', \"JUMBO BAG 50'S CHRISTMAS\"],\n",
       " ['JUMBO BAG DOILEY PATTERNS', \"JUMBO BAG 50'S CHRISTMAS\"],\n",
       " ['JUMBO BAG RED RETROSPOT', 'JUMBO BAG APPLES'],\n",
       " ['JUMBO BAG RED RETROSPOT', 'JUMBO BAG PINK POLKADOT'],\n",
       " ['JUMBO BAG PINK POLKADOT', 'JUMBO BAG DOILEY PATTERNS'],\n",
       " ['ALARM CLOCK BAKELIKE GREEN', 'ALARM CLOCK BAKELIKE RED'],\n",
       " ['ALARM CLOCK BAKELIKE RED', 'ALARM CLOCK BAKELIKE GREEN'],\n",
       " ['WOODEN PICTURE FRAME WHITE FINISH', 'WOODEN FRAME ANTIQUE WHITE'],\n",
       " ['JUMBO BAG DOILEY PATTERNS', 'JUMBO BAG RED RETROSPOT'],\n",
       " ['JUMBO BAG RED RETROSPOT', 'JUMBO BAG DOILEY PATTERNS'],\n",
       " ['JUMBO BAG ALPHABET', 'JUMBO BAG RED RETROSPOT'],\n",
       " ['JUMBO BAG RED RETROSPOT', 'JUMBO BAG ALPHABET']]"
      ]
     },
     "execution_count": 64,
     "metadata": {},
     "output_type": "execute_result"
    }
   ],
   "source": [
    "patterns_cm = list(filter(lambda x : x[0] != x[1],  patterns_cm))\n",
    "patterns_cm = [ [rf(x[0]), rf(x[1])] for x in patterns_cm]\n",
    "patterns_cm"
   ]
  },
  {
   "cell_type": "markdown",
   "metadata": {},
   "source": [
    "We find that most of these non singleton sequential patterns are formed by the same product but with different color or different pattern printed on it."
   ]
  },
  {
   "cell_type": "markdown",
   "metadata": {},
   "source": [
    "# SPM on high spending customers"
   ]
  },
  {
   "cell_type": "markdown",
   "metadata": {},
   "source": [
    "We reload the dataset to undo the changes and merge it with the annotated one in order to separate the customers based on their spending."
   ]
  },
  {
   "cell_type": "code",
   "execution_count": 65,
   "metadata": {},
   "outputs": [
    {
     "name": "stdout",
     "output_type": "stream",
     "text": [
      "customer_supermarket_clean.csv\n",
      "<class 'pandas.core.frame.DataFrame'>\n",
      "Int64Index: 68148 entries, 0 to 541907\n",
      "Data columns (total 8 columns):\n",
      " #   Column           Non-Null Count  Dtype         \n",
      "---  ------           --------------  -----         \n",
      " 0   BasketID         68148 non-null  int64         \n",
      " 1   BasketDate       68148 non-null  datetime64[ns]\n",
      " 2   Sale             68148 non-null  float64       \n",
      " 3   CustomerID       68148 non-null  int64         \n",
      " 4   CustomerCountry  68148 non-null  object        \n",
      " 5   ProdID           68148 non-null  object        \n",
      " 6   ProdDescr        68148 non-null  object        \n",
      " 7   Qta              68148 non-null  int64         \n",
      "dtypes: datetime64[ns](1), float64(1), int64(3), object(3)\n",
      "memory usage: 4.7+ MB\n"
     ]
    }
   ],
   "source": [
    "print(CLEAN_DATASET_NAME)\n",
    "df = load_customer_data(CLEAN_DATASET_NAME)\n",
    "df.info()"
   ]
  },
  {
   "cell_type": "markdown",
   "metadata": {},
   "source": [
    "We load the annotated dataset"
   ]
  },
  {
   "cell_type": "code",
   "execution_count": 66,
   "metadata": {},
   "outputs": [
    {
     "name": "stdout",
     "output_type": "stream",
     "text": [
      "annotated_customer_profile.csv\n"
     ]
    },
    {
     "data": {
      "text/html": [
       "<div>\n",
       "<style scoped>\n",
       "    .dataframe tbody tr th:only-of-type {\n",
       "        vertical-align: middle;\n",
       "    }\n",
       "\n",
       "    .dataframe tbody tr th {\n",
       "        vertical-align: top;\n",
       "    }\n",
       "\n",
       "    .dataframe thead th {\n",
       "        text-align: right;\n",
       "    }\n",
       "</style>\n",
       "<table border=\"1\" class=\"dataframe\">\n",
       "  <thead>\n",
       "    <tr style=\"text-align: right;\">\n",
       "      <th></th>\n",
       "      <th>CustomerID</th>\n",
       "      <th>Spending</th>\n",
       "    </tr>\n",
       "  </thead>\n",
       "  <tbody>\n",
       "    <tr>\n",
       "      <th>0</th>\n",
       "      <td>12347</td>\n",
       "      <td>high</td>\n",
       "    </tr>\n",
       "    <tr>\n",
       "      <th>1</th>\n",
       "      <td>12349</td>\n",
       "      <td>med</td>\n",
       "    </tr>\n",
       "    <tr>\n",
       "      <th>2</th>\n",
       "      <td>12350</td>\n",
       "      <td>low</td>\n",
       "    </tr>\n",
       "    <tr>\n",
       "      <th>3</th>\n",
       "      <td>12352</td>\n",
       "      <td>high</td>\n",
       "    </tr>\n",
       "    <tr>\n",
       "      <th>4</th>\n",
       "      <td>12353</td>\n",
       "      <td>low</td>\n",
       "    </tr>\n",
       "    <tr>\n",
       "      <th>...</th>\n",
       "      <td>...</td>\n",
       "      <td>...</td>\n",
       "    </tr>\n",
       "    <tr>\n",
       "      <th>3750</th>\n",
       "      <td>18280</td>\n",
       "      <td>low</td>\n",
       "    </tr>\n",
       "    <tr>\n",
       "      <th>3751</th>\n",
       "      <td>18281</td>\n",
       "      <td>low</td>\n",
       "    </tr>\n",
       "    <tr>\n",
       "      <th>3752</th>\n",
       "      <td>18282</td>\n",
       "      <td>med</td>\n",
       "    </tr>\n",
       "    <tr>\n",
       "      <th>3753</th>\n",
       "      <td>18283</td>\n",
       "      <td>high</td>\n",
       "    </tr>\n",
       "    <tr>\n",
       "      <th>3754</th>\n",
       "      <td>18287</td>\n",
       "      <td>med</td>\n",
       "    </tr>\n",
       "  </tbody>\n",
       "</table>\n",
       "<p>3702 rows × 2 columns</p>\n",
       "</div>"
      ],
      "text/plain": [
       "      CustomerID Spending\n",
       "0          12347     high\n",
       "1          12349      med\n",
       "2          12350      low\n",
       "3          12352     high\n",
       "4          12353      low\n",
       "...          ...      ...\n",
       "3750       18280      low\n",
       "3751       18281      low\n",
       "3752       18282      med\n",
       "3753       18283     high\n",
       "3754       18287      med\n",
       "\n",
       "[3702 rows x 2 columns]"
      ]
     },
     "execution_count": 66,
     "metadata": {},
     "output_type": "execute_result"
    }
   ],
   "source": [
    "print(ANNOTATED_CUSTOMER_PROFILE)\n",
    "ann = load_customer_data(ANNOTATED_CUSTOMER_PROFILE)\n",
    "ann = ann[['CustomerID', 'Spending']]\n",
    "ann"
   ]
  },
  {
   "cell_type": "markdown",
   "metadata": {},
   "source": [
    "Let's join the dataframe and then select only the high spending customers"
   ]
  },
  {
   "cell_type": "code",
   "execution_count": 67,
   "metadata": {},
   "outputs": [
    {
     "data": {
      "text/html": [
       "<div>\n",
       "<style scoped>\n",
       "    .dataframe tbody tr th:only-of-type {\n",
       "        vertical-align: middle;\n",
       "    }\n",
       "\n",
       "    .dataframe tbody tr th {\n",
       "        vertical-align: top;\n",
       "    }\n",
       "\n",
       "    .dataframe thead th {\n",
       "        text-align: right;\n",
       "    }\n",
       "</style>\n",
       "<table border=\"1\" class=\"dataframe\">\n",
       "  <thead>\n",
       "    <tr style=\"text-align: right;\">\n",
       "      <th></th>\n",
       "      <th>BasketID</th>\n",
       "      <th>BasketDate</th>\n",
       "      <th>Sale</th>\n",
       "      <th>CustomerID</th>\n",
       "      <th>CustomerCountry</th>\n",
       "      <th>ProdID</th>\n",
       "      <th>ProdDescr</th>\n",
       "      <th>Qta</th>\n",
       "      <th>Spending</th>\n",
       "    </tr>\n",
       "  </thead>\n",
       "  <tbody>\n",
       "    <tr>\n",
       "      <th>130</th>\n",
       "      <td>536368</td>\n",
       "      <td>2010-12-01 08:34:00</td>\n",
       "      <td>4.25</td>\n",
       "      <td>13047</td>\n",
       "      <td>United Kingdom</td>\n",
       "      <td>22960</td>\n",
       "      <td>JAM MAKING SET WITH JARS</td>\n",
       "      <td>6</td>\n",
       "      <td>high</td>\n",
       "    </tr>\n",
       "    <tr>\n",
       "      <th>131</th>\n",
       "      <td>536367</td>\n",
       "      <td>2010-12-01 08:34:00</td>\n",
       "      <td>2.10</td>\n",
       "      <td>13047</td>\n",
       "      <td>United Kingdom</td>\n",
       "      <td>22745</td>\n",
       "      <td>POPPY'S PLAYHOUSE BEDROOM</td>\n",
       "      <td>6</td>\n",
       "      <td>high</td>\n",
       "    </tr>\n",
       "    <tr>\n",
       "      <th>132</th>\n",
       "      <td>536367</td>\n",
       "      <td>2010-12-01 08:34:00</td>\n",
       "      <td>2.10</td>\n",
       "      <td>13047</td>\n",
       "      <td>United Kingdom</td>\n",
       "      <td>22748</td>\n",
       "      <td>POPPY'S PLAYHOUSE KITCHEN</td>\n",
       "      <td>6</td>\n",
       "      <td>high</td>\n",
       "    </tr>\n",
       "    <tr>\n",
       "      <th>133</th>\n",
       "      <td>536367</td>\n",
       "      <td>2010-12-01 08:34:00</td>\n",
       "      <td>3.75</td>\n",
       "      <td>13047</td>\n",
       "      <td>United Kingdom</td>\n",
       "      <td>22749</td>\n",
       "      <td>FELTCRAFT PRINCESS CHARLOTTE DOLL</td>\n",
       "      <td>8</td>\n",
       "      <td>high</td>\n",
       "    </tr>\n",
       "    <tr>\n",
       "      <th>134</th>\n",
       "      <td>536367</td>\n",
       "      <td>2010-12-01 08:34:00</td>\n",
       "      <td>4.25</td>\n",
       "      <td>13047</td>\n",
       "      <td>United Kingdom</td>\n",
       "      <td>84969</td>\n",
       "      <td>BOX OF 6 ASSORTED COLOUR TEASPOONS</td>\n",
       "      <td>6</td>\n",
       "      <td>high</td>\n",
       "    </tr>\n",
       "    <tr>\n",
       "      <th>...</th>\n",
       "      <td>...</td>\n",
       "      <td>...</td>\n",
       "      <td>...</td>\n",
       "      <td>...</td>\n",
       "      <td>...</td>\n",
       "      <td>...</td>\n",
       "      <td>...</td>\n",
       "      <td>...</td>\n",
       "      <td>...</td>\n",
       "    </tr>\n",
       "    <tr>\n",
       "      <th>67741</th>\n",
       "      <td>578520</td>\n",
       "      <td>2011-11-24 13:57:00</td>\n",
       "      <td>2.08</td>\n",
       "      <td>14591</td>\n",
       "      <td>United Kingdom</td>\n",
       "      <td>23214</td>\n",
       "      <td>JINGLE BELL HEART ANTIQUE GOLD</td>\n",
       "      <td>4</td>\n",
       "      <td>high</td>\n",
       "    </tr>\n",
       "    <tr>\n",
       "      <th>67742</th>\n",
       "      <td>578520</td>\n",
       "      <td>2011-11-24 13:57:00</td>\n",
       "      <td>1.95</td>\n",
       "      <td>14591</td>\n",
       "      <td>United Kingdom</td>\n",
       "      <td>22187</td>\n",
       "      <td>GREEN CHRISTMAS TREE CARD HOLDER</td>\n",
       "      <td>9</td>\n",
       "      <td>high</td>\n",
       "    </tr>\n",
       "    <tr>\n",
       "      <th>67743</th>\n",
       "      <td>578520</td>\n",
       "      <td>2011-11-24 13:57:00</td>\n",
       "      <td>2.08</td>\n",
       "      <td>14591</td>\n",
       "      <td>United Kingdom</td>\n",
       "      <td>21930</td>\n",
       "      <td>JUMBO STORAGE BAG SKULLS</td>\n",
       "      <td>10</td>\n",
       "      <td>high</td>\n",
       "    </tr>\n",
       "    <tr>\n",
       "      <th>67744</th>\n",
       "      <td>578520</td>\n",
       "      <td>2011-11-24 13:57:00</td>\n",
       "      <td>2.08</td>\n",
       "      <td>14591</td>\n",
       "      <td>United Kingdom</td>\n",
       "      <td>22386</td>\n",
       "      <td>JUMBO BAG PINK POLKADOT</td>\n",
       "      <td>10</td>\n",
       "      <td>high</td>\n",
       "    </tr>\n",
       "    <tr>\n",
       "      <th>67745</th>\n",
       "      <td>578520</td>\n",
       "      <td>2011-11-24 13:57:00</td>\n",
       "      <td>2.08</td>\n",
       "      <td>14591</td>\n",
       "      <td>United Kingdom</td>\n",
       "      <td>23344</td>\n",
       "      <td>JUMBO BAG 50'S CHRISTMAS</td>\n",
       "      <td>10</td>\n",
       "      <td>high</td>\n",
       "    </tr>\n",
       "  </tbody>\n",
       "</table>\n",
       "<p>42267 rows × 9 columns</p>\n",
       "</div>"
      ],
      "text/plain": [
       "       BasketID          BasketDate  Sale  CustomerID CustomerCountry ProdID  \\\n",
       "130      536368 2010-12-01 08:34:00  4.25       13047  United Kingdom  22960   \n",
       "131      536367 2010-12-01 08:34:00  2.10       13047  United Kingdom  22745   \n",
       "132      536367 2010-12-01 08:34:00  2.10       13047  United Kingdom  22748   \n",
       "133      536367 2010-12-01 08:34:00  3.75       13047  United Kingdom  22749   \n",
       "134      536367 2010-12-01 08:34:00  4.25       13047  United Kingdom  84969   \n",
       "...         ...                 ...   ...         ...             ...    ...   \n",
       "67741    578520 2011-11-24 13:57:00  2.08       14591  United Kingdom  23214   \n",
       "67742    578520 2011-11-24 13:57:00  1.95       14591  United Kingdom  22187   \n",
       "67743    578520 2011-11-24 13:57:00  2.08       14591  United Kingdom  21930   \n",
       "67744    578520 2011-11-24 13:57:00  2.08       14591  United Kingdom  22386   \n",
       "67745    578520 2011-11-24 13:57:00  2.08       14591  United Kingdom  23344   \n",
       "\n",
       "                                ProdDescr  Qta Spending  \n",
       "130              JAM MAKING SET WITH JARS    6     high  \n",
       "131            POPPY'S PLAYHOUSE BEDROOM     6     high  \n",
       "132             POPPY'S PLAYHOUSE KITCHEN    6     high  \n",
       "133     FELTCRAFT PRINCESS CHARLOTTE DOLL    8     high  \n",
       "134    BOX OF 6 ASSORTED COLOUR TEASPOONS    6     high  \n",
       "...                                   ...  ...      ...  \n",
       "67741      JINGLE BELL HEART ANTIQUE GOLD    4     high  \n",
       "67742    GREEN CHRISTMAS TREE CARD HOLDER    9     high  \n",
       "67743            JUMBO STORAGE BAG SKULLS   10     high  \n",
       "67744             JUMBO BAG PINK POLKADOT   10     high  \n",
       "67745           JUMBO BAG 50'S CHRISTMAS    10     high  \n",
       "\n",
       "[42267 rows x 9 columns]"
      ]
     },
     "execution_count": 67,
     "metadata": {},
     "output_type": "execute_result"
    }
   ],
   "source": [
    "d = pd.merge(df, ann, on='CustomerID', how='outer').fillna(0)\n",
    "df = d.loc[d['Spending'] == 'high']\n",
    "df"
   ]
  },
  {
   "cell_type": "code",
   "execution_count": 68,
   "metadata": {},
   "outputs": [
    {
     "name": "stdout",
     "output_type": "stream",
     "text": [
      "# of customers:  972\n"
     ]
    }
   ],
   "source": [
    "df.head()\n",
    "print(\"# of customers: \", df[\"CustomerID\"].nunique())"
   ]
  },
  {
   "cell_type": "code",
   "execution_count": 69,
   "metadata": {},
   "outputs": [
    {
     "name": "stderr",
     "output_type": "stream",
     "text": [
      "/home/fabsam/miniconda3/envs/py3.7/lib/python3.7/site-packages/ipykernel_launcher.py:1: SettingWithCopyWarning: \n",
      "A value is trying to be set on a copy of a slice from a DataFrame.\n",
      "Try using .loc[row_indexer,col_indexer] = value instead\n",
      "\n",
      "See the caveats in the documentation: https://pandas.pydata.org/pandas-docs/stable/user_guide/indexing.html#returning-a-view-versus-a-copy\n",
      "  \"\"\"Entry point for launching an IPython kernel.\n",
      "/home/fabsam/miniconda3/envs/py3.7/lib/python3.7/site-packages/ipykernel_launcher.py:2: SettingWithCopyWarning: \n",
      "A value is trying to be set on a copy of a slice from a DataFrame.\n",
      "Try using .loc[row_indexer,col_indexer] = value instead\n",
      "\n",
      "See the caveats in the documentation: https://pandas.pydata.org/pandas-docs/stable/user_guide/indexing.html#returning-a-view-versus-a-copy\n",
      "  \n"
     ]
    }
   ],
   "source": [
    "df['ProdDescr'] = df['ProdDescr'].str.strip()\n",
    "df['ProdID'] = df['ProdID'].str.strip()"
   ]
  },
  {
   "cell_type": "markdown",
   "metadata": {},
   "source": [
    "# ProdID transformation\n",
    "(as before)"
   ]
  },
  {
   "cell_type": "code",
   "execution_count": 70,
   "metadata": {},
   "outputs": [
    {
     "name": "stderr",
     "output_type": "stream",
     "text": [
      "/home/fabsam/miniconda3/envs/py3.7/lib/python3.7/site-packages/ipykernel_launcher.py:1: SettingWithCopyWarning: \n",
      "A value is trying to be set on a copy of a slice from a DataFrame.\n",
      "Try using .loc[row_indexer,col_indexer] = value instead\n",
      "\n",
      "See the caveats in the documentation: https://pandas.pydata.org/pandas-docs/stable/user_guide/indexing.html#returning-a-view-versus-a-copy\n",
      "  \"\"\"Entry point for launching an IPython kernel.\n"
     ]
    },
    {
     "data": {
      "text/html": [
       "<div>\n",
       "<style scoped>\n",
       "    .dataframe tbody tr th:only-of-type {\n",
       "        vertical-align: middle;\n",
       "    }\n",
       "\n",
       "    .dataframe tbody tr th {\n",
       "        vertical-align: top;\n",
       "    }\n",
       "\n",
       "    .dataframe thead th {\n",
       "        text-align: right;\n",
       "    }\n",
       "</style>\n",
       "<table border=\"1\" class=\"dataframe\">\n",
       "  <thead>\n",
       "    <tr style=\"text-align: right;\">\n",
       "      <th></th>\n",
       "      <th>BasketID</th>\n",
       "      <th>BasketDate</th>\n",
       "      <th>Sale</th>\n",
       "      <th>CustomerID</th>\n",
       "      <th>CustomerCountry</th>\n",
       "      <th>ProdID</th>\n",
       "      <th>ProdDescr</th>\n",
       "      <th>Qta</th>\n",
       "      <th>Spending</th>\n",
       "    </tr>\n",
       "  </thead>\n",
       "  <tbody>\n",
       "    <tr>\n",
       "      <th>130</th>\n",
       "      <td>536368</td>\n",
       "      <td>2010-12-01 08:34:00</td>\n",
       "      <td>4.25</td>\n",
       "      <td>13047</td>\n",
       "      <td>United Kingdom</td>\n",
       "      <td>228</td>\n",
       "      <td>JAM MAKING SET WITH JARS</td>\n",
       "      <td>6</td>\n",
       "      <td>high</td>\n",
       "    </tr>\n",
       "    <tr>\n",
       "      <th>131</th>\n",
       "      <td>536367</td>\n",
       "      <td>2010-12-01 08:34:00</td>\n",
       "      <td>2.10</td>\n",
       "      <td>13047</td>\n",
       "      <td>United Kingdom</td>\n",
       "      <td>564</td>\n",
       "      <td>POPPY'S PLAYHOUSE BEDROOM</td>\n",
       "      <td>6</td>\n",
       "      <td>high</td>\n",
       "    </tr>\n",
       "    <tr>\n",
       "      <th>132</th>\n",
       "      <td>536367</td>\n",
       "      <td>2010-12-01 08:34:00</td>\n",
       "      <td>2.10</td>\n",
       "      <td>13047</td>\n",
       "      <td>United Kingdom</td>\n",
       "      <td>419</td>\n",
       "      <td>POPPY'S PLAYHOUSE KITCHEN</td>\n",
       "      <td>6</td>\n",
       "      <td>high</td>\n",
       "    </tr>\n",
       "    <tr>\n",
       "      <th>133</th>\n",
       "      <td>536367</td>\n",
       "      <td>2010-12-01 08:34:00</td>\n",
       "      <td>3.75</td>\n",
       "      <td>13047</td>\n",
       "      <td>United Kingdom</td>\n",
       "      <td>811</td>\n",
       "      <td>FELTCRAFT PRINCESS CHARLOTTE DOLL</td>\n",
       "      <td>8</td>\n",
       "      <td>high</td>\n",
       "    </tr>\n",
       "    <tr>\n",
       "      <th>134</th>\n",
       "      <td>536367</td>\n",
       "      <td>2010-12-01 08:34:00</td>\n",
       "      <td>4.25</td>\n",
       "      <td>13047</td>\n",
       "      <td>United Kingdom</td>\n",
       "      <td>1040</td>\n",
       "      <td>BOX OF 6 ASSORTED COLOUR TEASPOONS</td>\n",
       "      <td>6</td>\n",
       "      <td>high</td>\n",
       "    </tr>\n",
       "    <tr>\n",
       "      <th>135</th>\n",
       "      <td>543113</td>\n",
       "      <td>2011-02-03 13:06:00</td>\n",
       "      <td>2.95</td>\n",
       "      <td>13047</td>\n",
       "      <td>United Kingdom</td>\n",
       "      <td>302</td>\n",
       "      <td>PHOTO FRAME CORNICE</td>\n",
       "      <td>8</td>\n",
       "      <td>high</td>\n",
       "    </tr>\n",
       "    <tr>\n",
       "      <th>136</th>\n",
       "      <td>543113</td>\n",
       "      <td>2011-02-03 13:06:00</td>\n",
       "      <td>2.55</td>\n",
       "      <td>13047</td>\n",
       "      <td>United Kingdom</td>\n",
       "      <td>344</td>\n",
       "      <td>SET OF 12  VINTAGE POSTCARD SET</td>\n",
       "      <td>6</td>\n",
       "      <td>high</td>\n",
       "    </tr>\n",
       "    <tr>\n",
       "      <th>137</th>\n",
       "      <td>543113</td>\n",
       "      <td>2011-02-03 13:06:00</td>\n",
       "      <td>2.55</td>\n",
       "      <td>13047</td>\n",
       "      <td>United Kingdom</td>\n",
       "      <td>512</td>\n",
       "      <td>SET OF 6 VINTAGE NOTELETS KIT</td>\n",
       "      <td>6</td>\n",
       "      <td>high</td>\n",
       "    </tr>\n",
       "    <tr>\n",
       "      <th>138</th>\n",
       "      <td>543113</td>\n",
       "      <td>2011-02-03 13:06:00</td>\n",
       "      <td>3.95</td>\n",
       "      <td>13047</td>\n",
       "      <td>United Kingdom</td>\n",
       "      <td>1308</td>\n",
       "      <td>SET OF 6 SPICE TINS PANTRY DESIGN</td>\n",
       "      <td>4</td>\n",
       "      <td>high</td>\n",
       "    </tr>\n",
       "    <tr>\n",
       "      <th>139</th>\n",
       "      <td>543113</td>\n",
       "      <td>2011-02-03 13:06:00</td>\n",
       "      <td>4.25</td>\n",
       "      <td>13047</td>\n",
       "      <td>United Kingdom</td>\n",
       "      <td>228</td>\n",
       "      <td>JAM MAKING SET WITH JARS</td>\n",
       "      <td>6</td>\n",
       "      <td>high</td>\n",
       "    </tr>\n",
       "  </tbody>\n",
       "</table>\n",
       "</div>"
      ],
      "text/plain": [
       "     BasketID          BasketDate  Sale  CustomerID CustomerCountry  ProdID  \\\n",
       "130    536368 2010-12-01 08:34:00  4.25       13047  United Kingdom     228   \n",
       "131    536367 2010-12-01 08:34:00  2.10       13047  United Kingdom     564   \n",
       "132    536367 2010-12-01 08:34:00  2.10       13047  United Kingdom     419   \n",
       "133    536367 2010-12-01 08:34:00  3.75       13047  United Kingdom     811   \n",
       "134    536367 2010-12-01 08:34:00  4.25       13047  United Kingdom    1040   \n",
       "135    543113 2011-02-03 13:06:00  2.95       13047  United Kingdom     302   \n",
       "136    543113 2011-02-03 13:06:00  2.55       13047  United Kingdom     344   \n",
       "137    543113 2011-02-03 13:06:00  2.55       13047  United Kingdom     512   \n",
       "138    543113 2011-02-03 13:06:00  3.95       13047  United Kingdom    1308   \n",
       "139    543113 2011-02-03 13:06:00  4.25       13047  United Kingdom     228   \n",
       "\n",
       "                              ProdDescr  Qta Spending  \n",
       "130            JAM MAKING SET WITH JARS    6     high  \n",
       "131           POPPY'S PLAYHOUSE BEDROOM    6     high  \n",
       "132           POPPY'S PLAYHOUSE KITCHEN    6     high  \n",
       "133   FELTCRAFT PRINCESS CHARLOTTE DOLL    8     high  \n",
       "134  BOX OF 6 ASSORTED COLOUR TEASPOONS    6     high  \n",
       "135                 PHOTO FRAME CORNICE    8     high  \n",
       "136     SET OF 12  VINTAGE POSTCARD SET    6     high  \n",
       "137       SET OF 6 VINTAGE NOTELETS KIT    6     high  \n",
       "138   SET OF 6 SPICE TINS PANTRY DESIGN    4     high  \n",
       "139            JAM MAKING SET WITH JARS    6     high  "
      ]
     },
     "metadata": {},
     "output_type": "display_data"
    }
   ],
   "source": [
    "df['ProdID'] = df['ProdID'].apply(lambda x : dictionary[x])\n",
    "display(df.head(10))"
   ]
  },
  {
   "cell_type": "markdown",
   "metadata": {},
   "source": [
    "# Customer Modeling\n",
    "We model the customer as a sequence of baskets, we remove duplicates from each basket and sort the elements of each basket in lexicographic order required by the SPM algorithms."
   ]
  },
  {
   "cell_type": "code",
   "execution_count": 71,
   "metadata": {},
   "outputs": [
    {
     "data": {
      "text/html": [
       "<div>\n",
       "<style scoped>\n",
       "    .dataframe tbody tr th:only-of-type {\n",
       "        vertical-align: middle;\n",
       "    }\n",
       "\n",
       "    .dataframe tbody tr th {\n",
       "        vertical-align: top;\n",
       "    }\n",
       "\n",
       "    .dataframe thead th {\n",
       "        text-align: right;\n",
       "    }\n",
       "</style>\n",
       "<table border=\"1\" class=\"dataframe\">\n",
       "  <thead>\n",
       "    <tr style=\"text-align: right;\">\n",
       "      <th></th>\n",
       "      <th>CustomerID</th>\n",
       "      <th>Sequence</th>\n",
       "    </tr>\n",
       "  </thead>\n",
       "  <tbody>\n",
       "    <tr>\n",
       "      <th>0</th>\n",
       "      <td>12347</td>\n",
       "      <td>[[1272, 1181, 1115, 1192, 445, 888, 1323, 1358...</td>\n",
       "    </tr>\n",
       "    <tr>\n",
       "      <th>1</th>\n",
       "      <td>12352</td>\n",
       "      <td>[[375, 890, 863, 281, 925], [551, 1253], [551,...</td>\n",
       "    </tr>\n",
       "    <tr>\n",
       "      <th>2</th>\n",
       "      <td>12360</td>\n",
       "      <td>[[539, 558, 793, 1300, 953, 636, 985, 615, 437...</td>\n",
       "    </tr>\n",
       "    <tr>\n",
       "      <th>3</th>\n",
       "      <td>12362</td>\n",
       "      <td>[[293, 793, 1074, 1180, 515, 853, 509, 745, 13...</td>\n",
       "    </tr>\n",
       "    <tr>\n",
       "      <th>4</th>\n",
       "      <td>12370</td>\n",
       "      <td>[[427, 986, 830, 1000, 518, 332, 125, 924, 477...</td>\n",
       "    </tr>\n",
       "    <tr>\n",
       "      <th>...</th>\n",
       "      <td>...</td>\n",
       "      <td>...</td>\n",
       "    </tr>\n",
       "    <tr>\n",
       "      <th>967</th>\n",
       "      <td>18241</td>\n",
       "      <td>[[174, 1084, 482, 550, 116], [204, 576], [576,...</td>\n",
       "    </tr>\n",
       "    <tr>\n",
       "      <th>968</th>\n",
       "      <td>18245</td>\n",
       "      <td>[[569, 672, 174, 795, 917, 445, 1323, 840], [4...</td>\n",
       "    </tr>\n",
       "    <tr>\n",
       "      <th>969</th>\n",
       "      <td>18257</td>\n",
       "      <td>[[482, 1338, 1308, 593], [243], [206, 8, 787, ...</td>\n",
       "    </tr>\n",
       "    <tr>\n",
       "      <th>970</th>\n",
       "      <td>18272</td>\n",
       "      <td>[[266, 83, 67, 135, 107, 599, 1171, 1084, 228,...</td>\n",
       "    </tr>\n",
       "    <tr>\n",
       "      <th>971</th>\n",
       "      <td>18283</td>\n",
       "      <td>[[174, 838], [41, 1145], [41, 1145, 120, 254, ...</td>\n",
       "    </tr>\n",
       "  </tbody>\n",
       "</table>\n",
       "<p>972 rows × 2 columns</p>\n",
       "</div>"
      ],
      "text/plain": [
       "     CustomerID                                           Sequence\n",
       "0         12347  [[1272, 1181, 1115, 1192, 445, 888, 1323, 1358...\n",
       "1         12352  [[375, 890, 863, 281, 925], [551, 1253], [551,...\n",
       "2         12360  [[539, 558, 793, 1300, 953, 636, 985, 615, 437...\n",
       "3         12362  [[293, 793, 1074, 1180, 515, 853, 509, 745, 13...\n",
       "4         12370  [[427, 986, 830, 1000, 518, 332, 125, 924, 477...\n",
       "..          ...                                                ...\n",
       "967       18241  [[174, 1084, 482, 550, 116], [204, 576], [576,...\n",
       "968       18245  [[569, 672, 174, 795, 917, 445, 1323, 840], [4...\n",
       "969       18257  [[482, 1338, 1308, 593], [243], [206, 8, 787, ...\n",
       "970       18272  [[266, 83, 67, 135, 107, 599, 1171, 1084, 228,...\n",
       "971       18283  [[174, 838], [41, 1145], [41, 1145, 120, 254, ...\n",
       "\n",
       "[972 rows x 2 columns]"
      ]
     },
     "metadata": {},
     "output_type": "display_data"
    }
   ],
   "source": [
    "prof = df.groupby(['CustomerID', 'BasketID'])['ProdID'].unique().reset_index()\n",
    "prof = prof[['CustomerID', 'ProdID']].groupby('CustomerID')[\"ProdID\"].apply(list).reset_index()\n",
    "prof.columns = ['CustomerID', 'Sequence']\n",
    "display(prof)"
   ]
  },
  {
   "cell_type": "code",
   "execution_count": 72,
   "metadata": {},
   "outputs": [
    {
     "name": "stdout",
     "output_type": "stream",
     "text": [
      "the new length of the profile is 86\n"
     ]
    }
   ],
   "source": [
    "# tried from len 1 to 15\n",
    "filtered = prof['Sequence'].apply(lambda x : len(x) > 15)\n",
    "filtered = prof[filtered]\n",
    "prof = filtered\n",
    "print(f'the new length of the profile is {len(prof)}')"
   ]
  },
  {
   "cell_type": "code",
   "execution_count": 73,
   "metadata": {},
   "outputs": [
    {
     "name": "stdout",
     "output_type": "stream",
     "text": [
      "# sequences = 86\n"
     ]
    },
    {
     "data": {
      "text/html": [
       "<div>\n",
       "<style scoped>\n",
       "    .dataframe tbody tr th:only-of-type {\n",
       "        vertical-align: middle;\n",
       "    }\n",
       "\n",
       "    .dataframe tbody tr th {\n",
       "        vertical-align: top;\n",
       "    }\n",
       "\n",
       "    .dataframe thead th {\n",
       "        text-align: right;\n",
       "    }\n",
       "</style>\n",
       "<table border=\"1\" class=\"dataframe\">\n",
       "  <thead>\n",
       "    <tr style=\"text-align: right;\">\n",
       "      <th></th>\n",
       "      <th>CustomerID</th>\n",
       "      <th>Sequence</th>\n",
       "    </tr>\n",
       "  </thead>\n",
       "  <tbody>\n",
       "    <tr>\n",
       "      <th>25</th>\n",
       "      <td>12471</td>\n",
       "      <td>[[30, 419, 564, 615, 781, 883, 1027], [461, 53...</td>\n",
       "    </tr>\n",
       "    <tr>\n",
       "      <th>27</th>\n",
       "      <td>12474</td>\n",
       "      <td>[[823], [441, 615, 930, 1223], [25, 71, 237, 4...</td>\n",
       "    </tr>\n",
       "    <tr>\n",
       "      <th>46</th>\n",
       "      <td>12540</td>\n",
       "      <td>[[473, 1034, 1055], [13, 40, 92, 404, 542, 580...</td>\n",
       "    </tr>\n",
       "    <tr>\n",
       "      <th>51</th>\n",
       "      <td>12569</td>\n",
       "      <td>[[92, 734, 1286], [92], [80, 734, 1095, 1218],...</td>\n",
       "    </tr>\n",
       "    <tr>\n",
       "      <th>61</th>\n",
       "      <td>12621</td>\n",
       "      <td>[[606, 705, 888, 1192, 1320], [228, 329], [281...</td>\n",
       "    </tr>\n",
       "    <tr>\n",
       "      <th>...</th>\n",
       "      <td>...</td>\n",
       "      <td>...</td>\n",
       "    </tr>\n",
       "    <tr>\n",
       "      <th>919</th>\n",
       "      <td>17811</td>\n",
       "      <td>[[13], [409, 612], [1341], [218, 712, 1014, 12...</td>\n",
       "    </tr>\n",
       "    <tr>\n",
       "      <th>922</th>\n",
       "      <td>17841</td>\n",
       "      <td>[[1034, 1289], [661, 1289], [40], [1049], [40,...</td>\n",
       "    </tr>\n",
       "    <tr>\n",
       "      <th>926</th>\n",
       "      <td>17865</td>\n",
       "      <td>[[117, 187, 356, 473, 494, 512, 541, 640, 656,...</td>\n",
       "    </tr>\n",
       "    <tr>\n",
       "      <th>943</th>\n",
       "      <td>18109</td>\n",
       "      <td>[[537], [537], [537], [344], [174, 548], [174]...</td>\n",
       "    </tr>\n",
       "    <tr>\n",
       "      <th>944</th>\n",
       "      <td>18118</td>\n",
       "      <td>[[95, 548, 661, 822, 882, 973, 986], [174], [6...</td>\n",
       "    </tr>\n",
       "  </tbody>\n",
       "</table>\n",
       "<p>86 rows × 2 columns</p>\n",
       "</div>"
      ],
      "text/plain": [
       "     CustomerID                                           Sequence\n",
       "25        12471  [[30, 419, 564, 615, 781, 883, 1027], [461, 53...\n",
       "27        12474  [[823], [441, 615, 930, 1223], [25, 71, 237, 4...\n",
       "46        12540  [[473, 1034, 1055], [13, 40, 92, 404, 542, 580...\n",
       "51        12569  [[92, 734, 1286], [92], [80, 734, 1095, 1218],...\n",
       "61        12621  [[606, 705, 888, 1192, 1320], [228, 329], [281...\n",
       "..          ...                                                ...\n",
       "919       17811  [[13], [409, 612], [1341], [218, 712, 1014, 12...\n",
       "922       17841  [[1034, 1289], [661, 1289], [40], [1049], [40,...\n",
       "926       17865  [[117, 187, 356, 473, 494, 512, 541, 640, 656,...\n",
       "943       18109  [[537], [537], [537], [344], [174, 548], [174]...\n",
       "944       18118  [[95, 548, 661, 822, 882, 973, 986], [174], [6...\n",
       "\n",
       "[86 rows x 2 columns]"
      ]
     },
     "metadata": {},
     "output_type": "display_data"
    }
   ],
   "source": [
    "prof['Sequence'] = prof['Sequence'].apply(dedup_and_sort)\n",
    "print(f'# sequences = {len(prof)}')\n",
    "display(prof)"
   ]
  },
  {
   "cell_type": "code",
   "execution_count": 74,
   "metadata": {},
   "outputs": [],
   "source": [
    "SEQUENCE_FILENAME='sequence_highspending.txt'"
   ]
  },
  {
   "cell_type": "code",
   "execution_count": 75,
   "metadata": {},
   "outputs": [],
   "source": [
    "convert_and_save(prof['Sequence'], SEQUENCE_FILENAME)"
   ]
  },
  {
   "cell_type": "markdown",
   "metadata": {},
   "source": [
    "# Sequential Pattern Mining on high spending customers"
   ]
  },
  {
   "cell_type": "code",
   "execution_count": 76,
   "metadata": {},
   "outputs": [
    {
     "name": "stdout",
     "output_type": "stream",
     "text": [
      ">/home/fabsam/Documenti/university/masterDegree/2_year/DM/DM_project/4.SequentialPatternMining/spmf.jar\n",
      "=============  CM-SPADE -- Algorithm - STATISTICS =============\n",
      " Total time ~ 12 ms\n",
      " Frequent sequences count : 16\n",
      " Join count : 6\n",
      " Max memory (mb):13.424072265625\n",
      "Content at file CMSPADE_HIGH.txt\n",
      "===================================================\n",
      "\n",
      "\n"
     ]
    },
    {
     "data": {
      "text/plain": [
       "[(['21929'], '29'),\n",
       " (['23201'], '27'),\n",
       " (['85123A'], '27'),\n",
       " (['21928'], '27'),\n",
       " (['22960'], '28'),\n",
       " (['23203'], '33'),\n",
       " (['85099B'], '36'),\n",
       " (['21931'], '27'),\n",
       " (['85099F'], '26'),\n",
       " (['22090'], '30'),\n",
       " (['22386'], '30'),\n",
       " (['23199'], '28'),\n",
       " (['23202'], '28'),\n",
       " (['85099B', '85099B'], '27'),\n",
       " (['85099B', '23203'], '28'),\n",
       " (['23203', '23203'], '26')]"
      ]
     },
     "execution_count": 76,
     "metadata": {},
     "output_type": "execute_result"
    }
   ],
   "source": [
    "OUT='CMSPADE_HIGH.txt'\n",
    "args = [0.3]\n",
    "\n",
    "CM_SPADE_PAR = Spmf('CM-SPADE', input_filename=SEQUENCE_FILENAME, output_filename=OUT, arguments=args)\n",
    "\n",
    "timer.start('cmspade')\n",
    "CM_SPADE_PAR.run()\n",
    "timer.stop()\n",
    "\n",
    "patterns['cmspade_highsp'] = spmf_file_loader_and_parser(OUT, True, True)\n",
    "patterns['cmspade_highsp']"
   ]
  },
  {
   "cell_type": "markdown",
   "metadata": {},
   "source": [
    "We don't obtain better results in terms of patterns found. In the following, we want to understand the reason."
   ]
  },
  {
   "cell_type": "code",
   "execution_count": 77,
   "metadata": {},
   "outputs": [],
   "source": [
    "def compute(l):\n",
    "    s = 0\n",
    "    for i in l:\n",
    "        s = s + len(i)\n",
    "    return int(s / len(l))"
   ]
  },
  {
   "cell_type": "code",
   "execution_count": 78,
   "metadata": {},
   "outputs": [],
   "source": [
    "lenn = prof[\"Sequence\"].apply(lambda x: compute(x))"
   ]
  },
  {
   "cell_type": "code",
   "execution_count": 79,
   "metadata": {},
   "outputs": [
    {
     "data": {
      "image/png": "[encoded data removed]",
      "text/plain": [
       "<Figure size 1080x360 with 1 Axes>"
      ]
     },
     "metadata": {},
     "output_type": "display_data"
    }
   ],
   "source": [
    "plt.hist(lenn)\n",
    "plt.xlabel(\"Mean number of products per basket\")\n",
    "plt.ylabel(\"Customer count\")\n",
    "plt.show()"
   ]
  },
  {
   "cell_type": "markdown",
   "metadata": {},
   "source": [
    "As expected, most of the customers have a shopping session with less then 10 items."
   ]
  }
 ],
 "metadata": {
  "kernelspec": {
   "display_name": "Python 3",
   "language": "python",
   "name": "python3"
  },
  "language_info": {
   "codemirror_mode": {
    "name": "ipython",
    "version": 3
   },
   "file_extension": ".py",
   "mimetype": "text/x-python",
   "name": "python",
   "nbconvert_exporter": "python",
   "pygments_lexer": "ipython3",
   "version": "3.7.7"
  }
 },
 "nbformat": 4,
 "nbformat_minor": 4
}
